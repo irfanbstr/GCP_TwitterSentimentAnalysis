{
  "nbformat": 4,
  "nbformat_minor": 0,
  "metadata": {
    "colab": {
      "name": "Sentiment Analysis Project.ipynb",
      "version": "0.3.2",
      "provenance": [],
      "collapsed_sections": [],
      "toc_visible": true,
      "include_colab_link": true
    },
    "kernelspec": {
      "name": "python3",
      "display_name": "Python 3"
    }
  },
  "cells": [
    {
      "cell_type": "markdown",
      "metadata": {
        "id": "view-in-github",
        "colab_type": "text"
      },
      "source": [
        "<a href=\"https://colab.research.google.com/github/irfanbstr/GCP_TwitterSentimentAnalysis/blob/master/Sentiment_Analysis_Project.ipynb\" target=\"_parent\"><img src=\"https://colab.research.google.com/assets/colab-badge.svg\" alt=\"Open In Colab\"/></a>"
      ]
    },
    {
      "cell_type": "markdown",
      "metadata": {
        "id": "5DddzDM2Ouw0",
        "colab_type": "text"
      },
      "source": [
        "#Proyek Sentiment Analysis Menggunakan Twitter API, Python (Scikit-learn library), Spark, dan Google Cloud Platform\n",
        "##Irfan Budi Satria, Teknik Elektro UI 2016\n",
        "\n",
        "Pada waktu penulisan ini, saya sedang ada magang / KP di perusahaan IT Consultant di Jakarta. Proyek yang saya kerjakan adalah membuat sebuah pipeline Machine Learning yang nyambung ke cloud / big data. Jujur saya juga baru mulai ngoding Python jadi bener2 dari awal banget. Setelah seminggu lebih googling dan belajar ML otodidak, saya rasa ini cukup merepresentasikan sebagai bentuk dasar dari sistem yang sesungguhnya. :)\n",
        "\n",
        "Segala referensi yang digunakan saya credit di section yang menggunakannya.\n",
        "\n",
        "Disclaimer: script ini belum tentu robust, karena dibuat untuk belajar sekaligus memnuhi tugas di tempat magang. \n",
        "\n",
        "Semoga berguna ke depannya!"
      ]
    },
    {
      "cell_type": "markdown",
      "metadata": {
        "id": "NCBuFrVN5Pwr",
        "colab_type": "text"
      },
      "source": [
        "##Step 1. Getting The Training Dataset\n",
        "\n",
        "Dataset yang saya pakai adalah dataset emosi pengguna twitter dari user github meisaputri21 (terimakasih mbak Mei):\n",
        "\n",
        "https://github.com/meisaputri21/Indonesian-Twitter-Emotion-Dataset\n",
        "\n",
        "Dataset ini sudah ada klasifikasi emosi menjadi 5 emosi. Saya sederhanakan lagi untuk ujicoba proyek ini menjadi 2 sentimen saja yaitu \"baik\" dan \"buruk\".\n",
        "\n",
        "Ini penyederhanaannya:\n",
        "\n",
        "\n",
        "```\n",
        "happy, love = baik\n",
        "anger = buruk\n",
        "sadness, fear = netral\n",
        "```\n",
        "alasan sadness sama fear netral karena dataset ini banyak isinya tweet galau yang nggak jelas masuknya ke mana haha\n",
        "\n",
        "Dataset disimpan dalam CSV yang bernama \n",
        "\n",
        "```\n",
        "dataset_sentiment_sederhana.csv\n",
        "```\n",
        "Referensi coding ini banyak mengacu ke post Medium mas Hafidzan Aliady (terimakasih mas Hafidzan) di:\n",
        "\n",
        "https://medium.com/@hafizhan.aliady/sentiment-analisis-lagi-menggunakan-python-bukan-r-lagi-ed31dd0cc520\n",
        "\n",
        "Let's go...!\n",
        "\n"
      ]
    },
    {
      "cell_type": "code",
      "metadata": {
        "id": "YWXW9xTT7RXu",
        "colab_type": "code",
        "outputId": "a0cda19e-ccaf-4042-a0b9-801f89b1ac56",
        "colab": {
          "base_uri": "https://localhost:8080/",
          "height": 34
        }
      },
      "source": [
        "# Classification template\n",
        "import numpy as np\n",
        "import pandas as pd\n",
        "import sklearn\n",
        "import json\n",
        "\n",
        "# Importing the dataset\n",
        "dataset = pd.read_csv('dataset_sentimen_sederhana.csv')\n",
        "\n",
        "# melihat seberapa banyak datanya\n",
        "dataset.shape"
      ],
      "execution_count": 100,
      "outputs": [
        {
          "output_type": "execute_result",
          "data": {
            "text/plain": [
              "(4401, 3)"
            ]
          },
          "metadata": {
            "tags": []
          },
          "execution_count": 100
        }
      ]
    },
    {
      "cell_type": "code",
      "metadata": {
        "id": "iPazR9UV9O8p",
        "colab_type": "code",
        "outputId": "559ce940-cc30-49b4-faed-186a9cf01a4b",
        "colab": {
          "base_uri": "https://localhost:8080/",
          "height": 136
        }
      },
      "source": [
        "# ambil 3 data dari paling atas\n",
        "dataset.head(3)"
      ],
      "execution_count": 101,
      "outputs": [
        {
          "output_type": "execute_result",
          "data": {
            "text/html": [
              "<div>\n",
              "<style scoped>\n",
              "    .dataframe tbody tr th:only-of-type {\n",
              "        vertical-align: middle;\n",
              "    }\n",
              "\n",
              "    .dataframe tbody tr th {\n",
              "        vertical-align: top;\n",
              "    }\n",
              "\n",
              "    .dataframe thead th {\n",
              "        text-align: right;\n",
              "    }\n",
              "</style>\n",
              "<table border=\"1\" class=\"dataframe\">\n",
              "  <thead>\n",
              "    <tr style=\"text-align: right;\">\n",
              "      <th></th>\n",
              "      <th>label</th>\n",
              "      <th>tweet</th>\n",
              "      <th>sentiment</th>\n",
              "    </tr>\n",
              "  </thead>\n",
              "  <tbody>\n",
              "    <tr>\n",
              "      <th>0</th>\n",
              "      <td>anger</td>\n",
              "      <td>Soal jln Jatibaru,polisi tdk bs GERTAK gubernu...</td>\n",
              "      <td>buruk</td>\n",
              "    </tr>\n",
              "    <tr>\n",
              "      <th>1</th>\n",
              "      <td>anger</td>\n",
              "      <td>Sesama cewe lho (kayaknya), harusnya bisa lebi...</td>\n",
              "      <td>buruk</td>\n",
              "    </tr>\n",
              "    <tr>\n",
              "      <th>2</th>\n",
              "      <td>happy</td>\n",
              "      <td>Kepingin gudeg mbarek Bu hj. Amad Foto dari go...</td>\n",
              "      <td>baik</td>\n",
              "    </tr>\n",
              "  </tbody>\n",
              "</table>\n",
              "</div>"
            ],
            "text/plain": [
              "   label                                              tweet sentiment\n",
              "0  anger  Soal jln Jatibaru,polisi tdk bs GERTAK gubernu...     buruk\n",
              "1  anger  Sesama cewe lho (kayaknya), harusnya bisa lebi...     buruk\n",
              "2  happy  Kepingin gudeg mbarek Bu hj. Amad Foto dari go...      baik"
            ]
          },
          "metadata": {
            "tags": []
          },
          "execution_count": 101
        }
      ]
    },
    {
      "cell_type": "code",
      "metadata": {
        "id": "q1IK3QDO9QN_",
        "colab_type": "code",
        "outputId": "7c1c65ee-5fcb-4be1-aff9-a4b6db484ca7",
        "colab": {
          "base_uri": "https://localhost:8080/",
          "height": 136
        }
      },
      "source": [
        "# ambil 3 data dari paling bawah\n",
        "dataset.tail(3)"
      ],
      "execution_count": 102,
      "outputs": [
        {
          "output_type": "execute_result",
          "data": {
            "text/html": [
              "<div>\n",
              "<style scoped>\n",
              "    .dataframe tbody tr th:only-of-type {\n",
              "        vertical-align: middle;\n",
              "    }\n",
              "\n",
              "    .dataframe tbody tr th {\n",
              "        vertical-align: top;\n",
              "    }\n",
              "\n",
              "    .dataframe thead th {\n",
              "        text-align: right;\n",
              "    }\n",
              "</style>\n",
              "<table border=\"1\" class=\"dataframe\">\n",
              "  <thead>\n",
              "    <tr style=\"text-align: right;\">\n",
              "      <th></th>\n",
              "      <th>label</th>\n",
              "      <th>tweet</th>\n",
              "      <th>sentiment</th>\n",
              "    </tr>\n",
              "  </thead>\n",
              "  <tbody>\n",
              "    <tr>\n",
              "      <th>4398</th>\n",
              "      <td>anger</td>\n",
              "      <td>5. masa depannya nggak jelas. lha iya, gimana ...</td>\n",
              "      <td>buruk</td>\n",
              "    </tr>\n",
              "    <tr>\n",
              "      <th>4399</th>\n",
              "      <td>happy</td>\n",
              "      <td>[USERNAME] dulu beneran ada mahasiswa Teknik U...</td>\n",
              "      <td>baik</td>\n",
              "    </tr>\n",
              "    <tr>\n",
              "      <th>4400</th>\n",
              "      <td>sadness</td>\n",
              "      <td>Ya Allah, hanya Engkau yang mengetahui rasa sa...</td>\n",
              "      <td>netral</td>\n",
              "    </tr>\n",
              "  </tbody>\n",
              "</table>\n",
              "</div>"
            ],
            "text/plain": [
              "        label                                              tweet sentiment\n",
              "4398    anger  5. masa depannya nggak jelas. lha iya, gimana ...     buruk\n",
              "4399    happy  [USERNAME] dulu beneran ada mahasiswa Teknik U...      baik\n",
              "4400  sadness  Ya Allah, hanya Engkau yang mengetahui rasa sa...    netral"
            ]
          },
          "metadata": {
            "tags": []
          },
          "execution_count": 102
        }
      ]
    },
    {
      "cell_type": "code",
      "metadata": {
        "id": "seFMC9cp92PL",
        "colab_type": "code",
        "outputId": "abfc0cc8-7783-42f2-9041-22212eadb7e7",
        "colab": {
          "base_uri": "https://localhost:8080/",
          "height": 195
        }
      },
      "source": [
        "#ambil data secara acak sebanyak 5 data\n",
        "dataset.sample(5)"
      ],
      "execution_count": 103,
      "outputs": [
        {
          "output_type": "execute_result",
          "data": {
            "text/html": [
              "<div>\n",
              "<style scoped>\n",
              "    .dataframe tbody tr th:only-of-type {\n",
              "        vertical-align: middle;\n",
              "    }\n",
              "\n",
              "    .dataframe tbody tr th {\n",
              "        vertical-align: top;\n",
              "    }\n",
              "\n",
              "    .dataframe thead th {\n",
              "        text-align: right;\n",
              "    }\n",
              "</style>\n",
              "<table border=\"1\" class=\"dataframe\">\n",
              "  <thead>\n",
              "    <tr style=\"text-align: right;\">\n",
              "      <th></th>\n",
              "      <th>label</th>\n",
              "      <th>tweet</th>\n",
              "      <th>sentiment</th>\n",
              "    </tr>\n",
              "  </thead>\n",
              "  <tbody>\n",
              "    <tr>\n",
              "      <th>3576</th>\n",
              "      <td>sadness</td>\n",
              "      <td>Udah gitu. Aku pake Vaseline gitu kan di bulu ...</td>\n",
              "      <td>netral</td>\n",
              "    </tr>\n",
              "    <tr>\n",
              "      <th>4009</th>\n",
              "      <td>love</td>\n",
              "      <td>AkuMencintaimu Karena disisimu, sepiku hilang....</td>\n",
              "      <td>baik</td>\n",
              "    </tr>\n",
              "    <tr>\n",
              "      <th>991</th>\n",
              "      <td>sadness</td>\n",
              "      <td>Salah sangka yang menghasilkan sebuah kekecawa...</td>\n",
              "      <td>netral</td>\n",
              "    </tr>\n",
              "    <tr>\n",
              "      <th>4362</th>\n",
              "      <td>fear</td>\n",
              "      <td>Baru pulang &amp; mama said 'jgn kebanyakan mikir ...</td>\n",
              "      <td>netral</td>\n",
              "    </tr>\n",
              "    <tr>\n",
              "      <th>3691</th>\n",
              "      <td>sadness</td>\n",
              "      <td>[USERNAME] Pernah dikirimin kue sma temen pake...</td>\n",
              "      <td>netral</td>\n",
              "    </tr>\n",
              "  </tbody>\n",
              "</table>\n",
              "</div>"
            ],
            "text/plain": [
              "        label                                              tweet sentiment\n",
              "3576  sadness  Udah gitu. Aku pake Vaseline gitu kan di bulu ...    netral\n",
              "4009     love  AkuMencintaimu Karena disisimu, sepiku hilang....      baik\n",
              "991   sadness  Salah sangka yang menghasilkan sebuah kekecawa...    netral\n",
              "4362     fear  Baru pulang & mama said 'jgn kebanyakan mikir ...    netral\n",
              "3691  sadness  [USERNAME] Pernah dikirimin kue sma temen pake...    netral"
            ]
          },
          "metadata": {
            "tags": []
          },
          "execution_count": 103
        }
      ]
    },
    {
      "cell_type": "code",
      "metadata": {
        "id": "4Cizwdbb92gp",
        "colab_type": "code",
        "outputId": "0dfbabdc-abc8-4d42-95b5-d5cb3d0bc4b8",
        "colab": {
          "base_uri": "https://localhost:8080/",
          "height": 166
        }
      },
      "source": [
        "#datanya secara deskriptif\n",
        "dataset.describe()"
      ],
      "execution_count": 104,
      "outputs": [
        {
          "output_type": "execute_result",
          "data": {
            "text/html": [
              "<div>\n",
              "<style scoped>\n",
              "    .dataframe tbody tr th:only-of-type {\n",
              "        vertical-align: middle;\n",
              "    }\n",
              "\n",
              "    .dataframe tbody tr th {\n",
              "        vertical-align: top;\n",
              "    }\n",
              "\n",
              "    .dataframe thead th {\n",
              "        text-align: right;\n",
              "    }\n",
              "</style>\n",
              "<table border=\"1\" class=\"dataframe\">\n",
              "  <thead>\n",
              "    <tr style=\"text-align: right;\">\n",
              "      <th></th>\n",
              "      <th>label</th>\n",
              "      <th>tweet</th>\n",
              "      <th>sentiment</th>\n",
              "    </tr>\n",
              "  </thead>\n",
              "  <tbody>\n",
              "    <tr>\n",
              "      <th>count</th>\n",
              "      <td>4401</td>\n",
              "      <td>4401</td>\n",
              "      <td>4401</td>\n",
              "    </tr>\n",
              "    <tr>\n",
              "      <th>unique</th>\n",
              "      <td>5</td>\n",
              "      <td>4389</td>\n",
              "      <td>3</td>\n",
              "    </tr>\n",
              "    <tr>\n",
              "      <th>top</th>\n",
              "      <td>anger</td>\n",
              "      <td>[USERNAME] Selamat Siang Sahabat Pos. Kiriman ...</td>\n",
              "      <td>baik</td>\n",
              "    </tr>\n",
              "    <tr>\n",
              "      <th>freq</th>\n",
              "      <td>1101</td>\n",
              "      <td>4</td>\n",
              "      <td>1654</td>\n",
              "    </tr>\n",
              "  </tbody>\n",
              "</table>\n",
              "</div>"
            ],
            "text/plain": [
              "        label                                              tweet sentiment\n",
              "count    4401                                               4401      4401\n",
              "unique      5                                               4389         3\n",
              "top     anger  [USERNAME] Selamat Siang Sahabat Pos. Kiriman ...      baik\n",
              "freq     1101                                                  4      1654"
            ]
          },
          "metadata": {
            "tags": []
          },
          "execution_count": 104
        }
      ]
    },
    {
      "cell_type": "code",
      "metadata": {
        "id": "uPblPgIZ_R3I",
        "colab_type": "code",
        "outputId": "7fa7d8ab-d8cc-49f2-852e-c89ee270eca6",
        "colab": {
          "base_uri": "https://localhost:8080/",
          "height": 34
        }
      },
      "source": [
        "#melihat kolom yang ada\n",
        "dataset.columns"
      ],
      "execution_count": 105,
      "outputs": [
        {
          "output_type": "execute_result",
          "data": {
            "text/plain": [
              "Index(['label', 'tweet', 'sentiment'], dtype='object')"
            ]
          },
          "metadata": {
            "tags": []
          },
          "execution_count": 105
        }
      ]
    },
    {
      "cell_type": "code",
      "metadata": {
        "id": "_WkWqC8B_SHq",
        "colab_type": "code",
        "outputId": "0b62ce0f-ba0b-430e-e131-281ad1681664",
        "colab": {
          "base_uri": "https://localhost:8080/",
          "height": 87
        }
      },
      "source": [
        "# menghitung variabel katogorik pada kolom Is_Response\n",
        "dataset['sentiment'].value_counts()"
      ],
      "execution_count": 106,
      "outputs": [
        {
          "output_type": "execute_result",
          "data": {
            "text/plain": [
              "baik      1654\n",
              "netral    1646\n",
              "buruk     1101\n",
              "Name: sentiment, dtype: int64"
            ]
          },
          "metadata": {
            "tags": []
          },
          "execution_count": 106
        }
      ]
    },
    {
      "cell_type": "markdown",
      "metadata": {
        "id": "8POZIWB0BD2C",
        "colab_type": "text"
      },
      "source": [
        "Finally, dijadikan variable bebas dan terikat."
      ]
    },
    {
      "cell_type": "code",
      "metadata": {
        "id": "TtTSTiw4BN6y",
        "colab_type": "code",
        "outputId": "489b5ad7-5efd-4d77-f486-2c859e3333e2",
        "colab": {
          "base_uri": "https://localhost:8080/",
          "height": 87
        }
      },
      "source": [
        "X = dataset.tweet\n",
        "y = dataset.sentiment\n",
        "\n",
        "X.sample(3)"
      ],
      "execution_count": 107,
      "outputs": [
        {
          "output_type": "execute_result",
          "data": {
            "text/plain": [
              "3480    Kain batik asli Indonesia Pahat kayu buat biki...\n",
              "1670    Satu hal yg terburuk dalam hidupku adalah, ket...\n",
              "3110    Jujur gue gapernah ngomong ama ini orang, trs ...\n",
              "Name: tweet, dtype: object"
            ]
          },
          "metadata": {
            "tags": []
          },
          "execution_count": 107
        }
      ]
    },
    {
      "cell_type": "markdown",
      "metadata": {
        "id": "JIcmV64IAI8v",
        "colab_type": "text"
      },
      "source": [
        "Nah selesai bagian Import Datasetnya. Tapi kok dilihat-lihat Tweet di data saya banyakan buruk daripada baiknya yaa....?"
      ]
    },
    {
      "cell_type": "markdown",
      "metadata": {
        "id": "uo9sSAUtDpJI",
        "colab_type": "text"
      },
      "source": [
        "##Step 2. Text Cleaning\n",
        "\n",
        "Di dataset yang kita gunakan, datanya masih belom terlalu bersih dan kita ingin menghapus kata-kata yang tidak perlu. Kata-kata yang tidak perlu ini istilahnya adalah \"Stop Words\" dan mengandung kata-kata preposisi dan serupanya.\n",
        "\n",
        "Ini contoh visualisasi perbandingan data sebelum dan sesudah text-cleaning (again thanks to Mas Hafidzan):\n",
        "\n",
        "https://onlinemediamasters.com/wp-content/uploads/2015/11/Stop-Words.jpg\n",
        "\n",
        "Nah tapi stopword bahasa indo nggak ada di library NLTK Python, jadi harus diberikan sendiri. Untungnya user github masdevid punya corpora 700+ stopword bahasa Indonesia:\n",
        "\n",
        "https://github.com/masdevid/ID-Stopwords/blob/master/id.stopwords.02.01.2016.txt\n",
        "\n",
        "Yuhuu! Makasih Mas Devid!"
      ]
    },
    {
      "cell_type": "code",
      "metadata": {
        "id": "8Grg_SwAFy_e",
        "colab_type": "code",
        "outputId": "87e33440-f436-40c1-9dbb-3abe01ed900b",
        "colab": {
          "base_uri": "https://localhost:8080/",
          "height": 122
        }
      },
      "source": [
        "import re\n",
        "\n",
        "from bs4 import BeautifulSoup\n",
        "from nltk.tokenize import WordPunctTokenizer\n",
        "\n",
        "\n",
        "tok = WordPunctTokenizer()\n",
        "pat1 = r'@[A-Za-z0-9_]+' #menghilangkat username jika twitter\n",
        "pat2 = r'https?://[^ ]+' #menghilangkan situs website\n",
        "combined_pat = r'|'.join((pat1, pat2)) #join pat1 dan pat 2\n",
        "www_pat = r'www.[^ ]+' #menhilangkan situs website\n",
        "\n",
        "#set_stopword yang di deskripsikan sendiri\n",
        "stopword_user = pd.read_csv('id_stopwords.txt', sep='\\n', header= 0)\n",
        "\n",
        "print(stopword_user.sample(5))\n",
        "\n",
        "#ubah dataframe jadi set\n",
        "stopword_user = set(stopword_user.stopword)\n"
      ],
      "execution_count": 108,
      "outputs": [
        {
          "output_type": "stream",
          "text": [
            "        stopword\n",
            "168   diingatkan\n",
            "65    belakangan\n",
            "434  mengucapkan\n",
            "706   terjadinya\n",
            "261  ingat-ingat\n"
          ],
          "name": "stdout"
        }
      ]
    },
    {
      "cell_type": "code",
      "metadata": {
        "id": "A4MRU2QxH6xW",
        "colab_type": "code",
        "colab": {}
      },
      "source": [
        "def proses_teks(teks):\n",
        "    soup = BeautifulSoup(teks, 'lxml')\n",
        "    souped = soup.get_text()\n",
        "    try:\n",
        "        teks = souped.decode(\"utf-8-sig\").replace(u\"\\ufffd\", \"?\")\n",
        "    except:\n",
        "        teks = souped\n",
        "    teks_bersih= re.sub(\"[^a-zA-Z0-9]\", \" \",(re.sub(www_pat, '', re.sub(combined_pat, '', teks)).lower()))\n",
        "    teks_bersih= ' '.join([word for word in teks_bersih.split() if word not in stopword_user])\n",
        "    return (\" \".join([x for x in tok.tokenize(teks_bersih) if len(x) > 1])).strip()"
      ],
      "execution_count": 0,
      "outputs": []
    },
    {
      "cell_type": "code",
      "metadata": {
        "id": "6xE0cgCLH_pi",
        "colab_type": "code",
        "outputId": "56d4d22c-1de8-4663-c41f-7571533d61e2",
        "colab": {
          "base_uri": "https://localhost:8080/",
          "height": 72
        }
      },
      "source": [
        "#Test pembersihan teks udah jalan atau belum\n",
        "\n",
        "teks = \"hahaha apakah SAYA seolah-olah ingin pergi pada tanggal 15 bulan februari besok ? tidak karena hari kemarin @twitter suka main asalkan https://www.twitter.com\"\n",
        "teks_bersih = proses_teks(teks)\n",
        "\n",
        "print(\"Before: \" + teks)\n",
        "print(\"After: \" + teks_bersih)"
      ],
      "execution_count": 110,
      "outputs": [
        {
          "output_type": "stream",
          "text": [
            "Before: hahaha apakah SAYA seolah-olah ingin pergi pada tanggal 15 bulan februari besok ? tidak karena hari kemarin @twitter suka main asalkan https://www.twitter.com\n",
            "After: hahaha olah pergi tanggal 15 februari besok kemarin suka main\n"
          ],
          "name": "stdout"
        }
      ]
    },
    {
      "cell_type": "markdown",
      "metadata": {
        "id": "M9YXIOfiK_h2",
        "colab_type": "text"
      },
      "source": [
        "Yes! Corpora kita sudah jalan!\n",
        "\n",
        "Sekarang baru kita bersihkan dataset kita."
      ]
    },
    {
      "cell_type": "code",
      "metadata": {
        "id": "Q5iHeMfPL6DK",
        "colab_type": "code",
        "outputId": "0de2fafe-f98e-4532-9890-b207baa7bdcd",
        "colab": {
          "base_uri": "https://localhost:8080/",
          "height": 195
        }
      },
      "source": [
        "#get dataset tweet to empty list, run function proses_teks for every entry\n",
        "x=[]\n",
        "for teks in X:\n",
        "    x.append(proses_teks(teks))\n",
        "\n",
        "#save as pandas dataframe\n",
        "clean_text=pd.DataFrame({'clean_tweet':x})\n",
        "\n",
        "#concat the existing dataset dataframe with new dataframe\n",
        "dataset=pd.concat([dataset,clean_text],axis=1)\n",
        "\n",
        "dataset.head(5)"
      ],
      "execution_count": 111,
      "outputs": [
        {
          "output_type": "execute_result",
          "data": {
            "text/html": [
              "<div>\n",
              "<style scoped>\n",
              "    .dataframe tbody tr th:only-of-type {\n",
              "        vertical-align: middle;\n",
              "    }\n",
              "\n",
              "    .dataframe tbody tr th {\n",
              "        vertical-align: top;\n",
              "    }\n",
              "\n",
              "    .dataframe thead th {\n",
              "        text-align: right;\n",
              "    }\n",
              "</style>\n",
              "<table border=\"1\" class=\"dataframe\">\n",
              "  <thead>\n",
              "    <tr style=\"text-align: right;\">\n",
              "      <th></th>\n",
              "      <th>label</th>\n",
              "      <th>tweet</th>\n",
              "      <th>sentiment</th>\n",
              "      <th>clean_tweet</th>\n",
              "    </tr>\n",
              "  </thead>\n",
              "  <tbody>\n",
              "    <tr>\n",
              "      <th>0</th>\n",
              "      <td>anger</td>\n",
              "      <td>Soal jln Jatibaru,polisi tdk bs GERTAK gubernu...</td>\n",
              "      <td>buruk</td>\n",
              "      <td>jln jatibaru polisi tdk bs gertak gubernur ema...</td>\n",
              "    </tr>\n",
              "    <tr>\n",
              "      <th>1</th>\n",
              "      <td>anger</td>\n",
              "      <td>Sesama cewe lho (kayaknya), harusnya bisa lebi...</td>\n",
              "      <td>buruk</td>\n",
              "      <td>cewe lho kayaknya rasain sibuk jaga rasain sak...</td>\n",
              "    </tr>\n",
              "    <tr>\n",
              "      <th>2</th>\n",
              "      <td>happy</td>\n",
              "      <td>Kepingin gudeg mbarek Bu hj. Amad Foto dari go...</td>\n",
              "      <td>baik</td>\n",
              "      <td>kepingin gudeg mbarek bu hj amad foto google s...</td>\n",
              "    </tr>\n",
              "    <tr>\n",
              "      <th>3</th>\n",
              "      <td>anger</td>\n",
              "      <td>Jln Jatibaru,bagian dari wilayah Tn Abang.Peng...</td>\n",
              "      <td>buruk</td>\n",
              "      <td>jln jatibaru wilayah tn abang pengaturan wilay...</td>\n",
              "    </tr>\n",
              "    <tr>\n",
              "      <th>4</th>\n",
              "      <td>happy</td>\n",
              "      <td>Sharing pengalaman aja, kemarin jam 18.00 bata...</td>\n",
              "      <td>baik</td>\n",
              "      <td>sharing pengalaman aja kemarin jam 18 00 batal...</td>\n",
              "    </tr>\n",
              "  </tbody>\n",
              "</table>\n",
              "</div>"
            ],
            "text/plain": [
              "   label  ...                                        clean_tweet\n",
              "0  anger  ...  jln jatibaru polisi tdk bs gertak gubernur ema...\n",
              "1  anger  ...  cewe lho kayaknya rasain sibuk jaga rasain sak...\n",
              "2  happy  ...  kepingin gudeg mbarek bu hj amad foto google s...\n",
              "3  anger  ...  jln jatibaru wilayah tn abang pengaturan wilay...\n",
              "4  happy  ...  sharing pengalaman aja kemarin jam 18 00 batal...\n",
              "\n",
              "[5 rows x 4 columns]"
            ]
          },
          "metadata": {
            "tags": []
          },
          "execution_count": 111
        }
      ]
    },
    {
      "cell_type": "markdown",
      "metadata": {
        "id": "6hi3YLkPW1q6",
        "colab_type": "text"
      },
      "source": [
        "Ubah variabel bebas kita ke tweet bersih."
      ]
    },
    {
      "cell_type": "code",
      "metadata": {
        "id": "ALG32YlCWw80",
        "colab_type": "code",
        "colab": {}
      },
      "source": [
        "#Assign variabel bebas baru\n",
        "X = dataset.clean_tweet"
      ],
      "execution_count": 0,
      "outputs": []
    },
    {
      "cell_type": "markdown",
      "metadata": {
        "id": "HVQxuJJW8hDq",
        "colab_type": "text"
      },
      "source": [
        "##Step 3. Train - Test Split\n",
        "\n",
        "Di sini kita akan pakai fungsi sklearn yaitu train_test_split.\n",
        "\n",
        "Kita mau ngambil data secara random untuk dijadikan data training dan data uji keberhasilan model.\n",
        "\n",
        "Karena data kita lumayan banyak (4000+) maka rasio training:test bisa dipilih 9:1 dengan faktor random maksimum 255."
      ]
    },
    {
      "cell_type": "code",
      "metadata": {
        "id": "VVP8z2TXAe44",
        "colab_type": "code",
        "outputId": "3686ba79-da82-4483-a633-504a606396eb",
        "colab": {
          "base_uri": "https://localhost:8080/",
          "height": 52
        }
      },
      "source": [
        "from sklearn.model_selection import train_test_split\n",
        "X_train, X_test, y_train, y_test = train_test_split(X, y, test_size = 0.1, random_state = 255)\n",
        "\n",
        "print(\"Data Training: \" + str(X_train.count()))\n",
        "print(\"Data Uji: \" + str(X_test.count()))"
      ],
      "execution_count": 113,
      "outputs": [
        {
          "output_type": "stream",
          "text": [
            "Data Training: 3960\n",
            "Data Uji: 441\n"
          ],
          "name": "stdout"
        }
      ]
    },
    {
      "cell_type": "markdown",
      "metadata": {
        "id": "1l1Gj0JmNdfw",
        "colab_type": "text"
      },
      "source": [
        "##Step 4. Feature Extraction\n",
        "\n",
        "Feature Extraction adalah step penting yang perlu kita lakukan untuk ekstrak data dari data abstrak seperti teks dan gambar. Nggak bisa ngolah string secara langsung, harus diubah ke angka macam float atau int16 dulu.\n",
        "\n",
        "Dari dokumentasi Scikit-learn:\n",
        "\n",
        "```\n",
        "The sklearn.feature_extraction module can be used to extract features in a format supported by machine learning algorithms from datasets consisting of formats such as text and image.\n",
        "```\n",
        "\n",
        "Nah beberapa metode ekstraksi teks bisa dipakai, tapi di sini akan dipakai TfId Vectorizer. (namun bisa eksplorasi yang lain)"
      ]
    },
    {
      "cell_type": "code",
      "metadata": {
        "id": "HD6cz4CgSB87",
        "colab_type": "code",
        "colab": {}
      },
      "source": [
        "from sklearn.feature_extraction.text import CountVectorizer,TfidfVectorizer, HashingVectorizer\n",
        "\n",
        "#bikin vectorizer, setting bisa diatur2\n",
        "cvec=CountVectorizer()\n",
        "tvec=TfidfVectorizer()\n",
        "hvec=HashingVectorizer()"
      ],
      "execution_count": 0,
      "outputs": []
    },
    {
      "cell_type": "markdown",
      "metadata": {
        "id": "MQSfnvsLSK3v",
        "colab_type": "text"
      },
      "source": [
        "##Step 5. Choosing a Classifier\n",
        "\n",
        "Classifier adalah algoritma pemodelan secara klasifikasi yang bisa kita pilih untuk ngeklasifikasi hasil feature extraction. Again, ada beberapa yang bisa dipilih, tapi saya coba paka metode Random Forest soalnya banyak yang beranggapan Random Forest lumayan robust."
      ]
    },
    {
      "cell_type": "code",
      "metadata": {
        "id": "l_EEgb5PSfNi",
        "colab_type": "code",
        "colab": {}
      },
      "source": [
        "from sklearn.ensemble import RandomForestClassifier\n",
        "from sklearn.linear_model import LogisticRegression\n",
        "from sklearn.naive_bayes import BernoulliNB\n",
        "from sklearn.svm import SVC\n",
        "\n",
        "#bikin classifier, setting bisa diatur2\n",
        "clf1 = RandomForestClassifier(n_estimators = 100)\n",
        "clf2 = LogisticRegression(fit_intercept = False, random_state = 255, max_iter = 1000)\n",
        "clf3 = BernoulliNB(alpha = 1.0)\n",
        "clf4 = SVC(kernel = 'rbf')"
      ],
      "execution_count": 0,
      "outputs": []
    },
    {
      "cell_type": "markdown",
      "metadata": {
        "id": "MHIAbPi5SeeN",
        "colab_type": "text"
      },
      "source": [
        "##Step 6. Creating Model Pipeline and Fitting to Model\n",
        "\n",
        "Sklearn punya library pipeline untuk bikin model, jadi kita bisa ngatur-ngatur step-step di 4 dan 5 dengan mudah dan fleksibel jadi bisa coba-coba macem-macem pipeline untuk cari yang sesuai. Yay!"
      ]
    },
    {
      "cell_type": "code",
      "metadata": {
        "id": "RuaawoWFT74P",
        "colab_type": "code",
        "outputId": "d293758a-f933-4612-e9e6-97fee7af9790",
        "colab": {
          "base_uri": "https://localhost:8080/",
          "height": 107
        }
      },
      "source": [
        "from sklearn.pipeline import Pipeline\n",
        "\n",
        "model_1= Pipeline([('vectorizer',tvec),('classifier',clf2)])\n",
        "model_1.fit(X_train,y_train)\n",
        "hasil=model_1.predict(X_test)"
      ],
      "execution_count": 116,
      "outputs": [
        {
          "output_type": "stream",
          "text": [
            "/usr/local/lib/python3.6/dist-packages/sklearn/linear_model/logistic.py:432: FutureWarning: Default solver will be changed to 'lbfgs' in 0.22. Specify a solver to silence this warning.\n",
            "  FutureWarning)\n",
            "/usr/local/lib/python3.6/dist-packages/sklearn/linear_model/logistic.py:469: FutureWarning: Default multi_class will be changed to 'auto' in 0.22. Specify the multi_class option to silence this warning.\n",
            "  \"this warning.\", FutureWarning)\n"
          ],
          "name": "stderr"
        }
      ]
    },
    {
      "cell_type": "markdown",
      "metadata": {
        "id": "bIennzjPU9hM",
        "colab_type": "text"
      },
      "source": [
        "##Step 7. Check Model Accuracy\n",
        "\n",
        "Mulai bagian yang seru nih, cek akurasi model menggunakan Confusion Matrix."
      ]
    },
    {
      "cell_type": "code",
      "metadata": {
        "id": "2Up9vs6aVNII",
        "colab_type": "code",
        "outputId": "6cf26621-50ed-43bf-e95b-da823516f588",
        "colab": {
          "base_uri": "https://localhost:8080/",
          "height": 87
        }
      },
      "source": [
        "from sklearn.metrics import accuracy_score,confusion_matrix\n",
        "\n",
        "print(confusion_matrix(hasil,y_test))\n",
        "print(accuracy_score(hasil,y_test))"
      ],
      "execution_count": 117,
      "outputs": [
        {
          "output_type": "stream",
          "text": [
            "[[130   9  30]\n",
            " [  6  78  21]\n",
            " [ 33  27 107]]\n",
            "0.7142857142857143\n"
          ],
          "name": "stdout"
        }
      ]
    },
    {
      "cell_type": "markdown",
      "metadata": {
        "id": "15lClCxEXMnI",
        "colab_type": "text"
      },
      "source": [
        "OK, 64.6% akurasi pakai Random Forest dengan n=200"
      ]
    },
    {
      "cell_type": "code",
      "metadata": {
        "id": "lfm6OLRRvprt",
        "colab_type": "code",
        "outputId": "d78c5e53-71a6-4c57-a44c-d2e5a2d46a57",
        "colab": {
          "base_uri": "https://localhost:8080/",
          "height": 87
        }
      },
      "source": [
        "#Convert hasil ke list (hasil tadinya dalam bentuk ndarray)\n",
        "\n",
        "l_hasil = list(hasil)\n",
        "print(\"Prediksi tweet baik: \" + str(l_hasil.count('baik')))\n",
        "print(\"Prediksi tweet kurang baik: \" + str(l_hasil.count('buruk')))\n",
        "\n",
        "num = 100*(l_hasil.count('baik')/X_test.count())\n",
        "\n",
        "print(\"Persentase tweet baik = {:.2f} %\".format(num)) \n",
        "\n",
        "acc = 100*accuracy_score(hasil,y_test)\n",
        "\n",
        "print(\"Ketelitian = {:.2f} %\".format(acc))"
      ],
      "execution_count": 118,
      "outputs": [
        {
          "output_type": "stream",
          "text": [
            "Prediksi tweet baik: 169\n",
            "Prediksi tweet kurang baik: 105\n",
            "Persentase tweet baik = 38.32 %\n",
            "Ketelitian = 71.43 %\n"
          ],
          "name": "stdout"
        }
      ]
    },
    {
      "cell_type": "markdown",
      "metadata": {
        "id": "PmUYAMS1p6gc",
        "colab_type": "text"
      },
      "source": [
        "##Step 8. Visualizing Data\n",
        "\n",
        "Visualisasi data dilakukan menggunakan Matplotlib.\n",
        "\n"
      ]
    },
    {
      "cell_type": "code",
      "metadata": {
        "id": "PEnScwdcy9-O",
        "colab_type": "code",
        "outputId": "a5586355-f5cd-4985-85e7-604f35be4d3b",
        "colab": {
          "base_uri": "https://localhost:8080/",
          "height": 269
        }
      },
      "source": [
        "import matplotlib.pyplot as plt\n",
        "\n",
        "sizes = [l_hasil.count('baik'), l_hasil.count('buruk'), l_hasil.count('netral')]\n",
        "labels = ['baik','buruk','netral']\n",
        "colors = ['blue', 'red', 'yellow']\n",
        "explode = (0.1,0,0)\n",
        "\n",
        "#patches, texts = plt.pie(sizes, colors=colors, startangle=-270)\n",
        "\n",
        "fig1, ax1 = plt.subplots()\n",
        "ax1.pie(sizes, explode=explode, labels=labels, autopct='%1.1f%%',\n",
        "        shadow=True, startangle=90, colors=colors)\n",
        "ax1.axis('equal')  # Equal aspect ratio ensures that pie is drawn as a circle.\n",
        "\n",
        "plt.legend(labels, loc=\"best\")\n",
        "plt.title(label=\"Hasil Sentimen Dataset Test\", loc='center')\n",
        "plt.savefig('test_data_prediction.png', dpi=80)\n",
        "plt.show()"
      ],
      "execution_count": 119,
      "outputs": [
        {
          "output_type": "display_data",
          "data": {
            "image/png": "[encoded data removed]",
            "text/plain": [
              "<Figure size 432x288 with 1 Axes>"
            ]
          },
          "metadata": {
            "tags": []
          }
        }
      ]
    },
    {
      "cell_type": "markdown",
      "metadata": {
        "id": "9M6LZ-kX9UKo",
        "colab_type": "text"
      },
      "source": [
        "##Step 9. Saving Model\n",
        "Ketika sudah didapatkan model yang cukup baik, save model ke file. Menggunakan library Joblib dari Sklearn\n",
        "\n",
        "https://machinelearningmastery.com/save-load-machine-learning-models-python-scikit-learn/"
      ]
    },
    {
      "cell_type": "code",
      "metadata": {
        "id": "G5nI6vuk9pOK",
        "colab_type": "code",
        "outputId": "e3be0326-d0e4-4a6c-c606-c44c77cf9e1d",
        "colab": {
          "base_uri": "https://localhost:8080/",
          "height": 87
        }
      },
      "source": [
        "from sklearn.externals import joblib\n",
        "\n",
        "filename = 'finalized_model.sav'\n",
        "joblib.dump(model_1, filename)\n",
        " \n",
        "# some time later...\n",
        " \n",
        "# load the model from disk\n",
        "loaded_model = joblib.load(filename)\n",
        "result = loaded_model.predict(X_test)\n",
        "\n",
        "print(confusion_matrix(result,y_test))\n",
        "print(accuracy_score(result,y_test))"
      ],
      "execution_count": 120,
      "outputs": [
        {
          "output_type": "stream",
          "text": [
            "[[130   9  30]\n",
            " [  6  78  21]\n",
            " [ 33  27 107]]\n",
            "0.7142857142857143\n"
          ],
          "name": "stdout"
        }
      ]
    },
    {
      "cell_type": "markdown",
      "metadata": {
        "id": "j5SApI26SNj1",
        "colab_type": "text"
      },
      "source": [
        "## Intermezzo: Have A little fun\n",
        "\n",
        "Coba kita prediksikan dua tweet yang konotasinya masing2 bisa dinilai sendiri. Kalau prediksi anda tidak sesuai dengan yang diharapkan berarti model anda masih ada masalah hahaha"
      ]
    },
    {
      "cell_type": "code",
      "metadata": {
        "id": "fsT-u2L-SicS",
        "colab_type": "code",
        "outputId": "98862f33-403e-44a3-f857-b48d8cb0cbb2",
        "colab": {
          "base_uri": "https://localhost:8080/",
          "height": 52
        }
      },
      "source": [
        "coba1 = ([\"kalo narkoba jadi pembenaran buat urusan beban hidup, presiden kita mending rawat kebon ganja daripada pelihara kambing\"])\n",
        "coba2 = ([\"cegahlah kerusuhan dengan selalu saling pengertian tanpa memikirkan ego masing masing..ber musyawarah lah dan mufakat\"])\n",
        "res1 = model_1.predict(coba1)\n",
        "print(res1)\n",
        "res2 = model_1.predict(coba2)\n",
        "print(res2)"
      ],
      "execution_count": 121,
      "outputs": [
        {
          "output_type": "stream",
          "text": [
            "['buruk']\n",
            "['baik']\n"
          ],
          "name": "stdout"
        }
      ]
    },
    {
      "cell_type": "markdown",
      "metadata": {
        "id": "ngoniHc0KZrK",
        "colab_type": "text"
      },
      "source": [
        "\n",
        "##The Challenge 1: Getting Real, Untested Dataset\n",
        "\n",
        "Pertama-tama kita akan mengambil data dari Twitter. \n",
        "Metode ambil data yang digunakan adalah via Twitter Developer API yang terhubung dengan akun twitter saya. Metode ini sangat mudah apabila dibandingkan dengan webscraping tanpa menggunakan API.\n",
        "\n",
        "Referensi dari dokumentasi tweepy 3.8.0.\n",
        "\n",
        "http://docs.tweepy.org/en/latest/\n",
        "\n",
        "Via API, didapatkan consumer key, secret key, dan access token yang digunakan untuk tersambung dengan twitter.\n",
        "\n",
        "Tweet dicari dengan kata kunci spesifik (dalam proyek ini, saya diminta mencari sentiment mengenai Polisi) dan data yang dapat diambil berjumlah maksimum 3200 tweets dalam 15 menit (limitasi Twitter API)\n",
        "\n",
        "Tweet disimpan dengan format JSON atau CSV dengan struktur\n",
        "\n",
        "{tweets}\n",
        "  name:\n",
        "  text:\n",
        "  location"
      ]
    },
    {
      "cell_type": "code",
      "metadata": {
        "id": "qi7H_NhingnU",
        "colab_type": "code",
        "colab": {}
      },
      "source": [
        "#\"\"\"\n",
        "#GET RECENT TWEETS, EXPORT TO JSON\n",
        "\n",
        "import tweepy, json, time\n",
        "\n",
        "# Go to http://apps.twitter.com and create an app.\n",
        "# The consumer key and secret will be generated for you after\n",
        "consumer_key=\"yq6b8RykGgWJBKyFxyb0OjBoP\"\n",
        "consumer_secret=\"nBDdrquPmKOITE4a4mzHtFf5kVwd2a1IVZc0hYuXpDbBiOITwb\"\n",
        "\n",
        "# After the step above, you will be redirected to your app's page.\n",
        "# Create an access token under the the \"Your access token\" section\n",
        "access_token=\"1326996704-fDpADUkOIn9jQYqwuLgZMoP4crEmUfp0ZgkGtdk\"\n",
        "access_token_secret=\"Km5vj5c6cXzOlLe2Vl7KeOQC0qPgdLUPK4TGr2PumSXtb\"\n",
        "\n",
        "auth = tweepy.auth.OAuthHandler(consumer_key, consumer_secret)\n",
        "auth.set_access_token(access_token, access_token_secret)\n",
        "\n",
        "api = tweepy.API(auth,wait_on_rate_limit=True, wait_on_rate_limit_notify=True)\n",
        "\n",
        "search = tweepy.Cursor(api.search, q=\"prabowo -filter:retweets\", result_type=\"recent\", lang=\"id\", tweet_mode='extended').items(2500)\n",
        "\n",
        "data = {}\n",
        "data['tweets'] = []\n",
        "\n",
        "for item in search:\n",
        "  data['tweets'].append({\n",
        "    'name': item.user.name,\n",
        "    'text': item.full_text,\n",
        "    'location': item.user.location})\n",
        "  \n",
        "with open('data.txt', 'w') as outfile:\n",
        "    json.dump(data, outfile)\n",
        "\n",
        "#\"\"\""
      ],
      "execution_count": 0,
      "outputs": []
    },
    {
      "cell_type": "markdown",
      "metadata": {
        "id": "IUbsYdk14GAm",
        "colab_type": "text"
      },
      "source": [
        "Importing into pandas dataframe"
      ]
    },
    {
      "cell_type": "code",
      "metadata": {
        "id": "CpA5av63120w",
        "colab_type": "code",
        "outputId": "ee33dfc8-ae8b-417b-98ed-51249f1cdcef",
        "colab": {
          "base_uri": "https://localhost:8080/",
          "height": 170
        }
      },
      "source": [
        "from pandas.io.json import json_normalize\n",
        "\n",
        "with open('data.txt') as f:\n",
        "    d = json.load(f)\n",
        "\n",
        "data = json_normalize(d['tweets'])\n",
        "data.head(3)"
      ],
      "execution_count": 123,
      "outputs": [
        {
          "output_type": "execute_result",
          "data": {
            "text/html": [
              "<div>\n",
              "<style scoped>\n",
              "    .dataframe tbody tr th:only-of-type {\n",
              "        vertical-align: middle;\n",
              "    }\n",
              "\n",
              "    .dataframe tbody tr th {\n",
              "        vertical-align: top;\n",
              "    }\n",
              "\n",
              "    .dataframe thead th {\n",
              "        text-align: right;\n",
              "    }\n",
              "</style>\n",
              "<table border=\"1\" class=\"dataframe\">\n",
              "  <thead>\n",
              "    <tr style=\"text-align: right;\">\n",
              "      <th></th>\n",
              "      <th>location</th>\n",
              "      <th>name</th>\n",
              "      <th>text</th>\n",
              "    </tr>\n",
              "  </thead>\n",
              "  <tbody>\n",
              "    <tr>\n",
              "      <th>0</th>\n",
              "      <td></td>\n",
              "      <td>『I』『N』『D』『O』『N』『E』『S』『I』『A』 『M』『E』『N』『A』『N』『G』💯</td>\n",
              "      <td>@DariUntukRakyat @UyokBack Mereka bukan dibaya...</td>\n",
              "    </tr>\n",
              "    <tr>\n",
              "      <th>1</th>\n",
              "      <td></td>\n",
              "      <td>AL MARONI</td>\n",
              "      <td>@Mulyadisae8 @jokowi @prabowo @penyusup @donat...</td>\n",
              "    </tr>\n",
              "    <tr>\n",
              "      <th>2</th>\n",
              "      <td></td>\n",
              "      <td>Pembawa Berita</td>\n",
              "      <td>BEDA MAKAN SIANG ANIES-SURYA PALOH DENGAN MAKA...</td>\n",
              "    </tr>\n",
              "  </tbody>\n",
              "</table>\n",
              "</div>"
            ],
            "text/plain": [
              "  location  ...                                               text\n",
              "0           ...  @DariUntukRakyat @UyokBack Mereka bukan dibaya...\n",
              "1           ...  @Mulyadisae8 @jokowi @prabowo @penyusup @donat...\n",
              "2           ...  BEDA MAKAN SIANG ANIES-SURYA PALOH DENGAN MAKA...\n",
              "\n",
              "[3 rows x 3 columns]"
            ]
          },
          "metadata": {
            "tags": []
          },
          "execution_count": 123
        }
      ]
    },
    {
      "cell_type": "code",
      "metadata": {
        "id": "cxj2mYmM77l0",
        "colab_type": "code",
        "outputId": "8319b4a9-29c8-473b-e2c5-b8b890a85fb1",
        "colab": {
          "base_uri": "https://localhost:8080/",
          "height": 87
        }
      },
      "source": [
        "data.count()"
      ],
      "execution_count": 124,
      "outputs": [
        {
          "output_type": "execute_result",
          "data": {
            "text/plain": [
              "location    2500\n",
              "name        2500\n",
              "text        2500\n",
              "dtype: int64"
            ]
          },
          "metadata": {
            "tags": []
          },
          "execution_count": 124
        }
      ]
    },
    {
      "cell_type": "code",
      "metadata": {
        "id": "A73b2XbH8Bhc",
        "colab_type": "code",
        "outputId": "deccfb6f-3a3f-4d3d-e6f7-3ec4012b4216",
        "colab": {
          "base_uri": "https://localhost:8080/",
          "height": 136
        }
      },
      "source": [
        "data.tail(3)"
      ],
      "execution_count": 125,
      "outputs": [
        {
          "output_type": "execute_result",
          "data": {
            "text/html": [
              "<div>\n",
              "<style scoped>\n",
              "    .dataframe tbody tr th:only-of-type {\n",
              "        vertical-align: middle;\n",
              "    }\n",
              "\n",
              "    .dataframe tbody tr th {\n",
              "        vertical-align: top;\n",
              "    }\n",
              "\n",
              "    .dataframe thead th {\n",
              "        text-align: right;\n",
              "    }\n",
              "</style>\n",
              "<table border=\"1\" class=\"dataframe\">\n",
              "  <thead>\n",
              "    <tr style=\"text-align: right;\">\n",
              "      <th></th>\n",
              "      <th>location</th>\n",
              "      <th>name</th>\n",
              "      <th>text</th>\n",
              "    </tr>\n",
              "  </thead>\n",
              "  <tbody>\n",
              "    <tr>\n",
              "      <th>2497</th>\n",
              "      <td>Sumawe Indonesia</td>\n",
              "      <td>Angel Power 02</td>\n",
              "      <td>@Dahnilanzar Pengalihan kekuasan dari jokowi k...</td>\n",
              "    </tr>\n",
              "    <tr>\n",
              "      <th>2498</th>\n",
              "      <td></td>\n",
              "      <td>andyy.agus@gmail.com</td>\n",
              "      <td>@Ricky_kch Anda juga konsisten bos mantap. Say...</td>\n",
              "    </tr>\n",
              "    <tr>\n",
              "      <th>2499</th>\n",
              "      <td>JKT-INA</td>\n",
              "      <td>20DETIK</td>\n",
              "      <td>Soal Pertemuan Mega-Prabowo, PD: Prabowo Belaj...</td>\n",
              "    </tr>\n",
              "  </tbody>\n",
              "</table>\n",
              "</div>"
            ],
            "text/plain": [
              "              location  ...                                               text\n",
              "2497  Sumawe Indonesia  ...  @Dahnilanzar Pengalihan kekuasan dari jokowi k...\n",
              "2498                    ...  @Ricky_kch Anda juga konsisten bos mantap. Say...\n",
              "2499           JKT-INA  ...  Soal Pertemuan Mega-Prabowo, PD: Prabowo Belaj...\n",
              "\n",
              "[3 rows x 3 columns]"
            ]
          },
          "metadata": {
            "tags": []
          },
          "execution_count": 125
        }
      ]
    },
    {
      "cell_type": "code",
      "metadata": {
        "id": "QhinP4HW8EKn",
        "colab_type": "code",
        "outputId": "72b2140d-3c46-4206-9889-72144c7464c3",
        "colab": {
          "base_uri": "https://localhost:8080/",
          "height": 195
        }
      },
      "source": [
        "data.sample(5)"
      ],
      "execution_count": 126,
      "outputs": [
        {
          "output_type": "execute_result",
          "data": {
            "text/html": [
              "<div>\n",
              "<style scoped>\n",
              "    .dataframe tbody tr th:only-of-type {\n",
              "        vertical-align: middle;\n",
              "    }\n",
              "\n",
              "    .dataframe tbody tr th {\n",
              "        vertical-align: top;\n",
              "    }\n",
              "\n",
              "    .dataframe thead th {\n",
              "        text-align: right;\n",
              "    }\n",
              "</style>\n",
              "<table border=\"1\" class=\"dataframe\">\n",
              "  <thead>\n",
              "    <tr style=\"text-align: right;\">\n",
              "      <th></th>\n",
              "      <th>location</th>\n",
              "      <th>name</th>\n",
              "      <th>text</th>\n",
              "    </tr>\n",
              "  </thead>\n",
              "  <tbody>\n",
              "    <tr>\n",
              "      <th>934</th>\n",
              "      <td>Jakarta</td>\n",
              "      <td>Serba Serbi Indo</td>\n",
              "      <td>Unggahan akun Facebook Ibho Adji atau @ibho.ad...</td>\n",
              "    </tr>\n",
              "    <tr>\n",
              "      <th>2078</th>\n",
              "      <td>Indonesia</td>\n",
              "      <td>Nawanti</td>\n",
              "      <td>@NasDem Sulit di percaya min, lagian kok waktu...</td>\n",
              "    </tr>\n",
              "    <tr>\n",
              "      <th>520</th>\n",
              "      <td>No where but everywhere</td>\n",
              "      <td>yourandalusi4</td>\n",
              "      <td>@Wira_Ardiant @IreneViena @prabowo Iya. Balik ...</td>\n",
              "    </tr>\n",
              "    <tr>\n",
              "      <th>602</th>\n",
              "      <td></td>\n",
              "      <td>BERITATERKINI.co</td>\n",
              "      <td>Ini Isi Pembicaraan Empat Mata Prabowo-Megawat...</td>\n",
              "    </tr>\n",
              "    <tr>\n",
              "      <th>1080</th>\n",
              "      <td>Indonesia</td>\n",
              "      <td>Meidytha Syafira</td>\n",
              "      <td>Pertemuan jkw, Prabowo &amp;amp; mega wati bakalan...</td>\n",
              "    </tr>\n",
              "  </tbody>\n",
              "</table>\n",
              "</div>"
            ],
            "text/plain": [
              "                      location  ...                                               text\n",
              "934                    Jakarta  ...  Unggahan akun Facebook Ibho Adji atau @ibho.ad...\n",
              "2078                 Indonesia  ...  @NasDem Sulit di percaya min, lagian kok waktu...\n",
              "520   No where but everywhere   ...  @Wira_Ardiant @IreneViena @prabowo Iya. Balik ...\n",
              "602                             ...  Ini Isi Pembicaraan Empat Mata Prabowo-Megawat...\n",
              "1080                 Indonesia  ...  Pertemuan jkw, Prabowo &amp; mega wati bakalan...\n",
              "\n",
              "[5 rows x 3 columns]"
            ]
          },
          "metadata": {
            "tags": []
          },
          "execution_count": 126
        }
      ]
    },
    {
      "cell_type": "markdown",
      "metadata": {
        "id": "cuR6Xn-M4FCV",
        "colab_type": "text"
      },
      "source": [
        "Variabel bebas"
      ]
    },
    {
      "cell_type": "code",
      "metadata": {
        "id": "cKkl4BmV4UiF",
        "colab_type": "code",
        "outputId": "20127c12-e91f-44bb-8a72-8339391a795a",
        "colab": {
          "base_uri": "https://localhost:8080/",
          "height": 87
        }
      },
      "source": [
        "X_unseen = data.text\n",
        "\n",
        "X_unseen.sample(3)"
      ],
      "execution_count": 127,
      "outputs": [
        {
          "output_type": "execute_result",
          "data": {
            "text/plain": [
              "353     @do_ra_dong Keselamatan HRS memang sudah teran...\n",
              "1596    Hiyak hiyak.. Bau2 gabung koalisi\\nhttps://t.c...\n",
              "307     Mega ketemu Prabowo. Dan kemudian TKN dibubark...\n",
              "Name: text, dtype: object"
            ]
          },
          "metadata": {
            "tags": []
          },
          "execution_count": 127
        }
      ]
    },
    {
      "cell_type": "markdown",
      "metadata": {
        "id": "C7MMG4JILdbD",
        "colab_type": "text"
      },
      "source": [
        "##The Challenge 2: Cleaning the New Dataset"
      ]
    },
    {
      "cell_type": "code",
      "metadata": {
        "id": "jFz7hKcD8XfG",
        "colab_type": "code",
        "outputId": "148a06e1-cc61-46a9-c459-7d5ba3de011b",
        "colab": {
          "base_uri": "https://localhost:8080/",
          "height": 279
        }
      },
      "source": [
        "#get dataset tweet to empty list, run function proses_teks for every entry\n",
        "x_unseen=[]\n",
        "for teks in X_unseen:\n",
        "    x_unseen.append(proses_teks(teks))\n",
        "\n",
        "#save as pandas dataframe\n",
        "clean_text=pd.DataFrame({'clean_tweet':x_unseen})\n",
        "\n",
        "#concat the existing dataset dataframe with new dataframe\n",
        "data=pd.concat([data,clean_text],axis=1)\n",
        "\n",
        "X_unseen = data.clean_tweet\n",
        "\n",
        "data.head(5)"
      ],
      "execution_count": 128,
      "outputs": [
        {
          "output_type": "execute_result",
          "data": {
            "text/html": [
              "<div>\n",
              "<style scoped>\n",
              "    .dataframe tbody tr th:only-of-type {\n",
              "        vertical-align: middle;\n",
              "    }\n",
              "\n",
              "    .dataframe tbody tr th {\n",
              "        vertical-align: top;\n",
              "    }\n",
              "\n",
              "    .dataframe thead th {\n",
              "        text-align: right;\n",
              "    }\n",
              "</style>\n",
              "<table border=\"1\" class=\"dataframe\">\n",
              "  <thead>\n",
              "    <tr style=\"text-align: right;\">\n",
              "      <th></th>\n",
              "      <th>location</th>\n",
              "      <th>name</th>\n",
              "      <th>text</th>\n",
              "      <th>clean_tweet</th>\n",
              "    </tr>\n",
              "  </thead>\n",
              "  <tbody>\n",
              "    <tr>\n",
              "      <th>0</th>\n",
              "      <td></td>\n",
              "      <td>『I』『N』『D』『O』『N』『E』『S』『I』『A』 『M』『E』『N』『A』『N』『G』💯</td>\n",
              "      <td>@DariUntukRakyat @UyokBack Mereka bukan dibaya...</td>\n",
              "      <td>dibayar biaya orang berduka menyusahkan orang ...</td>\n",
              "    </tr>\n",
              "    <tr>\n",
              "      <th>1</th>\n",
              "      <td></td>\n",
              "      <td>AL MARONI</td>\n",
              "      <td>@Mulyadisae8 @jokowi @prabowo @penyusup @donat...</td>\n",
              "      <td>nggeh mas bos nih mumpung lg nyantai lemesin j...</td>\n",
              "    </tr>\n",
              "    <tr>\n",
              "      <th>2</th>\n",
              "      <td></td>\n",
              "      <td>Pembawa Berita</td>\n",
              "      <td>BEDA MAKAN SIANG ANIES-SURYA PALOH DENGAN MAKA...</td>\n",
              "      <td>beda makan siang anies surya paloh makan siang...</td>\n",
              "    </tr>\n",
              "    <tr>\n",
              "      <th>3</th>\n",
              "      <td></td>\n",
              "      <td>Dari&amp;Untuk Rakyat</td>\n",
              "      <td>@_PRABOWO_SANDl Ijtima ulama harusnya untuk ba...</td>\n",
              "      <td>ijtima ulama bangsa indonesia kepentingan golo...</td>\n",
              "    </tr>\n",
              "    <tr>\n",
              "      <th>4</th>\n",
              "      <td></td>\n",
              "      <td>Bob Prabowo</td>\n",
              "      <td>Percaya diri adalah rahasia pertama dari sukses</td>\n",
              "      <td>percaya rahasia sukses</td>\n",
              "    </tr>\n",
              "  </tbody>\n",
              "</table>\n",
              "</div>"
            ],
            "text/plain": [
              "  location  ...                                        clean_tweet\n",
              "0           ...  dibayar biaya orang berduka menyusahkan orang ...\n",
              "1           ...  nggeh mas bos nih mumpung lg nyantai lemesin j...\n",
              "2           ...  beda makan siang anies surya paloh makan siang...\n",
              "3           ...  ijtima ulama bangsa indonesia kepentingan golo...\n",
              "4           ...                             percaya rahasia sukses\n",
              "\n",
              "[5 rows x 4 columns]"
            ]
          },
          "metadata": {
            "tags": []
          },
          "execution_count": 128
        }
      ]
    },
    {
      "cell_type": "markdown",
      "metadata": {
        "id": "9UBzn1vN85rX",
        "colab_type": "text"
      },
      "source": [
        "##The Challenge 3: Predict with Previous Model Pipeline"
      ]
    },
    {
      "cell_type": "code",
      "metadata": {
        "id": "dRfPoym4_FeF",
        "colab_type": "code",
        "colab": {}
      },
      "source": [
        "filename = 'finalized_model.sav'\n",
        "loaded_model = joblib.load(filename)\n",
        "result = loaded_model.predict(X_unseen)"
      ],
      "execution_count": 0,
      "outputs": []
    },
    {
      "cell_type": "code",
      "metadata": {
        "id": "AdRofR_1_vrl",
        "colab_type": "code",
        "outputId": "436b2f45-38f9-4504-a03d-f971e0b6ee8e",
        "colab": {
          "base_uri": "https://localhost:8080/",
          "height": 338
        }
      },
      "source": [
        "#Convert hasil ke list (hasil tadinya dalam bentuk ndarray)\n",
        "\n",
        "l_result = list(result)\n",
        "print(\"Prediksi tweet baik: \" + str(l_result.count('baik')))\n",
        "print(\"Prediksi tweet kurang baik: \" + str(l_result.count('buruk')))\n",
        "\n",
        "num = 100*(l_result.count('baik')/X_unseen.count())\n",
        "\n",
        "print(\"Persentase tweet baik = {:.2f} %\".format(num)) \n",
        "\n",
        "acc = 100*accuracy_score(hasil,y_test)\n",
        "\n",
        "print(\"Ketelitian = {:.2f} %\".format(acc))\n",
        "\n",
        "import matplotlib.pyplot as plt\n",
        "\n",
        "sizes = [l_result.count('baik'), l_result.count('buruk'), l_result.count('netral')]\n",
        "labels = ['baik','buruk','netral']\n",
        "colors = ['blue', 'red', 'yellow']\n",
        "explode = (0.1,0,0)\n",
        "\n",
        "#patches, texts = plt.pie(sizes, colors=colors, startangle=-270)\n",
        "\n",
        "fig1, ax1 = plt.subplots()\n",
        "ax1.pie(sizes, explode=explode, labels=labels, autopct='%1.1f%%',\n",
        "        shadow=True, startangle=90, colors=colors)\n",
        "ax1.axis('equal')  # Equal aspect ratio ensures that pie is drawn as a circle.\n",
        "\n",
        "plt.legend(labels, loc=\"best\")\n",
        "plt.title(label=\"Hasil Sentimen Dataset Unseen\", loc='center')\n",
        "plt.savefig('unseen_data_prediction.png', dpi=80)\n",
        "plt.show()"
      ],
      "execution_count": 130,
      "outputs": [
        {
          "output_type": "stream",
          "text": [
            "Prediksi tweet baik: 685\n",
            "Prediksi tweet kurang baik: 1356\n",
            "Persentase tweet baik = 27.40 %\n",
            "Ketelitian = 71.43 %\n"
          ],
          "name": "stdout"
        },
        {
          "output_type": "display_data",
          "data": {
            "image/png": "[encoded data removed]",
            "text/plain": [
              "<Figure size 432x288 with 1 Axes>"
            ]
          },
          "metadata": {
            "tags": []
          }
        }
      ]
    },
    {
      "cell_type": "markdown",
      "metadata": {
        "id": "KgrWr1lM5ARn",
        "colab_type": "text"
      },
      "source": [
        "##Step 10: *Going Over the Clouds*\n",
        "\n",
        "Pada step ini akan dilakukan proses otomasi script2 python yang kita buat dan dalam skala yang lebih besar, karena semua processing data akan dilakukan di Google Cloud Platform. Saya tidak akan menuliskan tutorial GCP di sini karena akan dibahas di post lain.\n",
        "\n",
        "API yang dibutuhkan antara lain:\n",
        "\n",
        "1. Google Compute Engine\n",
        "2. Google Cloud Bucket Storage\n",
        "3. Google Cloud Dataproc Cluster\n",
        "\n",
        "- Spesifikasi Compute Engine VM:\n",
        "  - Machine = 1-n-standard1\n",
        "  - Ubuntu 18.04\n",
        "  - Zone = asia-southeast1-b\n",
        "  \n",
        "- Spesifikasi Cloud Bucket:\n",
        "  - Zone = asia-southeast1 (singapore)\n",
        "\n",
        "- Spesifikasi Cluster VM:\n",
        "  - 1 master n-nodes\n",
        "  - Master = 13GB Memory, Ubuntu 18.04 Image with Spark 2.4, Anaconda installed\n",
        "  - Node = 2x3.5GB Memory"
      ]
    },
    {
      "cell_type": "markdown",
      "metadata": {
        "id": "TD9FPxxHQSiO",
        "colab_type": "text"
      },
      "source": [
        " ## Step 11. Automation\n",
        " \n",
        " SSH ke Compute Engine dan buat 2 buah script:\n",
        "  \n",
        "  1. Python3 Script untuk scrape data dari Twitter satu hari sekali\n",
        "  2. Cron Script untuk mengirim data hasil scrape ke Bucket dan otomatisasi proses tersebut"
      ]
    },
    {
      "cell_type": "markdown",
      "metadata": {
        "id": "HAqM_zbgYkca",
        "colab_type": "text"
      },
      "source": [
        "Python script yang dibuat merupakan script Tweepy yang kita sudah buat sebelumnya.\n",
        "\n",
        "### Python Script"
      ]
    },
    {
      "cell_type": "code",
      "metadata": {
        "id": "IXQLfvB6QRip",
        "colab_type": "code",
        "colab": {
          "base_uri": "https://localhost:8080/",
          "height": 54
        },
        "outputId": "ffd048e7-1ebc-48e7-8c5c-b6558bc17b0e"
      },
      "source": [
        "\"\"\"\n",
        "#Python Script\n",
        "#get_tweets.py\n",
        "\n",
        "#GET RECENT TWEETS, EXPORT TO JSON\n",
        "\n",
        "import tweepy, json, time\n",
        "\n",
        "# Go to http://apps.twitter.com and create an app.\n",
        "# The consumer key and secret will be generated for you after\n",
        "consumer_key=\"yq6b8RykGgWJBKyFxyb0OjBoP\"\n",
        "consumer_secret=\"nBDdrquPmKOITE4a4mzHtFf5kVwd2a1IVZc0hYuXpDbBiOITwb\"\n",
        "\n",
        "# After the step above, you will be redirected to your app's page.\n",
        "# Create an access token under the the \"Your access token\" section\n",
        "access_token=\"1326996704-fDpADUkOIn9jQYqwuLgZMoP4crEmUfp0ZgkGtdk\"\n",
        "access_token_secret=\"Km5vj5c6cXzOlLe2Vl7KeOQC0qPgdLUPK4TGr2PumSXtb\"\n",
        "\n",
        "auth = tweepy.auth.OAuthHandler(consumer_key, consumer_secret)\n",
        "auth.set_access_token(access_token, access_token_secret)\n",
        "\n",
        "api = tweepy.API(auth, wait_on_rate_limit=True)\n",
        "\n",
        "search = tweepy.Cursor(api.search, q=\"prabowo\", result_type=\"recent\", lang=\"id\", tweet_mode='extended').items(10000)\n",
        "\n",
        "data = {}\n",
        "data['tweets'] = []\n",
        "\n",
        "for item in search:\n",
        "  data['tweets'].append({\n",
        "    'name': item.user.name,\n",
        "    'text': item.full_text,\n",
        "    'location': item.user.location})\n",
        "  \n",
        "with open('data.txt', 'w') as outfile:\n",
        "    json.dump(data, outfile)\n",
        "    \n",
        "print('Done getting tweets.')\n",
        "\"\"\""
      ],
      "execution_count": 131,
      "outputs": [
        {
          "output_type": "execute_result",
          "data": {
            "text/plain": [
              "'\\n#Python Script\\n#get_tweets.py\\n\\n#GET RECENT TWEETS, EXPORT TO JSON\\n\\nimport tweepy, json, time\\n\\n# Go to http://apps.twitter.com and create an app.\\n# The consumer key and secret will be generated for you after\\nconsumer_key=\"yq6b8RykGgWJBKyFxyb0OjBoP\"\\nconsumer_secret=\"nBDdrquPmKOITE4a4mzHtFf5kVwd2a1IVZc0hYuXpDbBiOITwb\"\\n\\n# After the step above, you will be redirected to your app\\'s page.\\n# Create an access token under the the \"Your access token\" section\\naccess_token=\"1326996704-fDpADUkOIn9jQYqwuLgZMoP4crEmUfp0ZgkGtdk\"\\naccess_token_secret=\"Km5vj5c6cXzOlLe2Vl7KeOQC0qPgdLUPK4TGr2PumSXtb\"\\n\\nauth = tweepy.auth.OAuthHandler(consumer_key, consumer_secret)\\nauth.set_access_token(access_token, access_token_secret)\\n\\napi = tweepy.API(auth, wait_on_rate_limit=True)\\n\\nsearch = tweepy.Cursor(api.search, q=\"prabowo\", result_type=\"recent\", lang=\"id\", tweet_mode=\\'extended\\').items(10000)\\n\\ndata = {}\\ndata[\\'tweets\\'] = []\\n\\nfor item in search:\\n  data[\\'tweets\\'].append({\\n    \\'name\\': item.user.name,\\n    \\'text\\': item.full_text,\\n    \\'location\\': item.user.location})\\n  \\nwith open(\\'data.txt\\', \\'w\\') as outfile:\\n    json.dump(data, outfile)\\n    \\nprint(\\'Done getting tweets.\\')\\n'"
            ]
          },
          "metadata": {
            "tags": []
          },
          "execution_count": 131
        }
      ]
    },
    {
      "cell_type": "markdown",
      "metadata": {
        "id": "CJi58-2_YIcX",
        "colab_type": "text"
      },
      "source": [
        "berikutnya, masuk ke crontab lewat python virtual environment.\n",
        "\n",
        "Guide memasang virtualenv python:\n",
        "\n",
        "https://packaging.python.org/guides/installing-using-pip-and-virtualenv/\n",
        "\n",
        "kemudian masuk ke virtualenv dan buka crontab di\n",
        "\n",
        "```\n",
        "crontab -e\n",
        "```\n",
        "\n",
        "atau\n",
        "\n",
        "\n",
        "```\n",
        "sudo crontab -e\n",
        "```\n",
        "\n",
        "### Crontab script\n",
        "\n",
        "\n",
        "```\n",
        "00 12 * * * python3 /home/sandw/twitter_sa/get_tweets.py \n",
        "\n",
        "30 12 * * * sudo gsutil cp /home/sandw/twitter_sa/data.txt gs://twitter-sa-bucket/data_unseen/\n",
        "```\n",
        "\n",
        "script ini akan menjalankan get_tweets.py setiap pukul 12:00 setiap harinya dan menjalankan command pindahkan data.txt ke cloud bucket setiap pukul 12:30 setiap harinya.\n"
      ]
    },
    {
      "cell_type": "markdown",
      "metadata": {
        "id": "nBXSu7PVJLOW",
        "colab_type": "text"
      },
      "source": [
        "## Step 12. Storing in the Bucket"
      ]
    }
  ]
}