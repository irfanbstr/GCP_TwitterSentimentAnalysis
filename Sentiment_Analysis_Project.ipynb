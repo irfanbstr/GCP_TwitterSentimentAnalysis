{
  "nbformat": 4,
  "nbformat_minor": 0,
  "metadata": {
    "colab": {
      "name": "Sentiment Analysis Project.ipynb",
      "version": "0.3.2",
      "provenance": [],
      "collapsed_sections": [],
      "toc_visible": true,
      "include_colab_link": true
    },
    "kernelspec": {
      "name": "python3",
      "display_name": "Python 3"
    }
  },
  "cells": [
    {
      "cell_type": "markdown",
      "metadata": {
        "id": "view-in-github",
        "colab_type": "text"
      },
      "source": [
        "<a href=\"https://colab.research.google.com/github/irfanbstr/GCP_TwitterSentimentAnalysis/blob/master/Sentiment_Analysis_Project.ipynb\" target=\"_parent\"><img src=\"https://colab.research.google.com/assets/colab-badge.svg\" alt=\"Open In Colab\"/></a>"
      ]
    },
    {
      "cell_type": "markdown",
      "metadata": {
        "id": "5DddzDM2Ouw0",
        "colab_type": "text"
      },
      "source": [
        "#Proyek Sentiment Analysis Menggunakan Twitter API, Python (Scikit-learn library), Spark, dan Google Cloud Platform\n",
        "##Irfan Budi Satria, Teknik Elektro UI 2016\n",
        "\n",
        "Pada waktu penulisan ini, saya sedang ada magang / KP di perusahaan IT Consultant di Jakarta. Proyek yang saya kerjakan adalah membuat sebuah pipeline Machine Learning yang nyambung ke cloud / big data. Jujur saya juga baru mulai ngoding Python jadi bener2 dari awal banget. Setelah seminggu lebih googling dan belajar ML otodidak, saya rasa ini cukup merepresentasikan sebagai bentuk dasar dari sistem yang sesungguhnya. :)\n",
        "\n",
        "Segala referensi yang digunakan saya credit di section yang menggunakannya.\n",
        "\n",
        "Disclaimer: script ini belum tentu robust, karena dibuat untuk belajar sekaligus memnuhi tugas di tempat magang. \n",
        "\n",
        "Semoga berguna ke depannya!"
      ]
    },
    {
      "cell_type": "markdown",
      "metadata": {
        "id": "NCBuFrVN5Pwr",
        "colab_type": "text"
      },
      "source": [
        "##Step 1. Getting The Training Dataset\n",
        "\n",
        "Dataset yang saya pakai adalah dataset emosi pengguna twitter dari user github meisaputri21 (terimakasih mbak Mei):\n",
        "\n",
        "https://github.com/meisaputri21/Indonesian-Twitter-Emotion-Dataset\n",
        "\n",
        "Dataset ini sudah ada klasifikasi emosi menjadi 5 emosi. Saya sederhanakan lagi untuk ujicoba proyek ini menjadi 2 sentimen saja yaitu \"baik\" dan \"buruk\".\n",
        "\n",
        "Ini penyederhanaannya:\n",
        "\n",
        "\n",
        "```\n",
        "happy, love = baik\n",
        "anger = buruk\n",
        "sadness, fear = netral\n",
        "```\n",
        "alasan sadness sama fear netral karena dataset ini banyak isinya tweet galau yang nggak jelas masuknya ke mana haha\n",
        "\n",
        "Dataset disimpan dalam CSV yang bernama \n",
        "\n",
        "```\n",
        "dataset_sentiment_sederhana.csv\n",
        "```\n",
        "Referensi coding ini banyak mengacu ke post Medium mas Hafidzan Aliady (terimakasih mas Hafidzan) di:\n",
        "\n",
        "https://medium.com/@hafizhan.aliady/sentiment-analisis-lagi-menggunakan-python-bukan-r-lagi-ed31dd0cc520\n",
        "\n",
        "Let's go...!\n",
        "\n"
      ]
    },
    {
      "cell_type": "code",
      "metadata": {
        "id": "YWXW9xTT7RXu",
        "colab_type": "code",
        "outputId": "d2c8186c-a1b6-4346-a819-637e9de665e0",
        "colab": {
          "base_uri": "https://localhost:8080/",
          "height": 34
        }
      },
      "source": [
        "# Classification template\n",
        "import numpy as np\n",
        "import pandas as pd\n",
        "import sklearn\n",
        "import json\n",
        "\n",
        "# Importing the dataset\n",
        "dataset = pd.read_csv('dataset_sentimen_sederhana.csv')\n",
        "\n",
        "# melihat seberapa banyak datanya\n",
        "dataset.shape"
      ],
      "execution_count": 50,
      "outputs": [
        {
          "output_type": "execute_result",
          "data": {
            "text/plain": [
              "(4401, 3)"
            ]
          },
          "metadata": {
            "tags": []
          },
          "execution_count": 50
        }
      ]
    },
    {
      "cell_type": "code",
      "metadata": {
        "id": "iPazR9UV9O8p",
        "colab_type": "code",
        "outputId": "d3b1e995-318d-4b06-cebd-734481f56c6c",
        "colab": {
          "base_uri": "https://localhost:8080/",
          "height": 136
        }
      },
      "source": [
        "# ambil 3 data dari paling atas\n",
        "dataset.head(3)"
      ],
      "execution_count": 51,
      "outputs": [
        {
          "output_type": "execute_result",
          "data": {
            "text/html": [
              "<div>\n",
              "<style scoped>\n",
              "    .dataframe tbody tr th:only-of-type {\n",
              "        vertical-align: middle;\n",
              "    }\n",
              "\n",
              "    .dataframe tbody tr th {\n",
              "        vertical-align: top;\n",
              "    }\n",
              "\n",
              "    .dataframe thead th {\n",
              "        text-align: right;\n",
              "    }\n",
              "</style>\n",
              "<table border=\"1\" class=\"dataframe\">\n",
              "  <thead>\n",
              "    <tr style=\"text-align: right;\">\n",
              "      <th></th>\n",
              "      <th>label</th>\n",
              "      <th>tweet</th>\n",
              "      <th>sentiment</th>\n",
              "    </tr>\n",
              "  </thead>\n",
              "  <tbody>\n",
              "    <tr>\n",
              "      <th>0</th>\n",
              "      <td>anger</td>\n",
              "      <td>Soal jln Jatibaru,polisi tdk bs GERTAK gubernu...</td>\n",
              "      <td>buruk</td>\n",
              "    </tr>\n",
              "    <tr>\n",
              "      <th>1</th>\n",
              "      <td>anger</td>\n",
              "      <td>Sesama cewe lho (kayaknya), harusnya bisa lebi...</td>\n",
              "      <td>buruk</td>\n",
              "    </tr>\n",
              "    <tr>\n",
              "      <th>2</th>\n",
              "      <td>happy</td>\n",
              "      <td>Kepingin gudeg mbarek Bu hj. Amad Foto dari go...</td>\n",
              "      <td>baik</td>\n",
              "    </tr>\n",
              "  </tbody>\n",
              "</table>\n",
              "</div>"
            ],
            "text/plain": [
              "   label                                              tweet sentiment\n",
              "0  anger  Soal jln Jatibaru,polisi tdk bs GERTAK gubernu...     buruk\n",
              "1  anger  Sesama cewe lho (kayaknya), harusnya bisa lebi...     buruk\n",
              "2  happy  Kepingin gudeg mbarek Bu hj. Amad Foto dari go...      baik"
            ]
          },
          "metadata": {
            "tags": []
          },
          "execution_count": 51
        }
      ]
    },
    {
      "cell_type": "code",
      "metadata": {
        "id": "q1IK3QDO9QN_",
        "colab_type": "code",
        "outputId": "535b3ab1-0357-4cc1-9a87-4979d2b3878d",
        "colab": {
          "base_uri": "https://localhost:8080/",
          "height": 136
        }
      },
      "source": [
        "# ambil 3 data dari paling bawah\n",
        "dataset.tail(3)"
      ],
      "execution_count": 52,
      "outputs": [
        {
          "output_type": "execute_result",
          "data": {
            "text/html": [
              "<div>\n",
              "<style scoped>\n",
              "    .dataframe tbody tr th:only-of-type {\n",
              "        vertical-align: middle;\n",
              "    }\n",
              "\n",
              "    .dataframe tbody tr th {\n",
              "        vertical-align: top;\n",
              "    }\n",
              "\n",
              "    .dataframe thead th {\n",
              "        text-align: right;\n",
              "    }\n",
              "</style>\n",
              "<table border=\"1\" class=\"dataframe\">\n",
              "  <thead>\n",
              "    <tr style=\"text-align: right;\">\n",
              "      <th></th>\n",
              "      <th>label</th>\n",
              "      <th>tweet</th>\n",
              "      <th>sentiment</th>\n",
              "    </tr>\n",
              "  </thead>\n",
              "  <tbody>\n",
              "    <tr>\n",
              "      <th>4398</th>\n",
              "      <td>anger</td>\n",
              "      <td>5. masa depannya nggak jelas. lha iya, gimana ...</td>\n",
              "      <td>buruk</td>\n",
              "    </tr>\n",
              "    <tr>\n",
              "      <th>4399</th>\n",
              "      <td>happy</td>\n",
              "      <td>[USERNAME] dulu beneran ada mahasiswa Teknik U...</td>\n",
              "      <td>baik</td>\n",
              "    </tr>\n",
              "    <tr>\n",
              "      <th>4400</th>\n",
              "      <td>sadness</td>\n",
              "      <td>Ya Allah, hanya Engkau yang mengetahui rasa sa...</td>\n",
              "      <td>netral</td>\n",
              "    </tr>\n",
              "  </tbody>\n",
              "</table>\n",
              "</div>"
            ],
            "text/plain": [
              "        label                                              tweet sentiment\n",
              "4398    anger  5. masa depannya nggak jelas. lha iya, gimana ...     buruk\n",
              "4399    happy  [USERNAME] dulu beneran ada mahasiswa Teknik U...      baik\n",
              "4400  sadness  Ya Allah, hanya Engkau yang mengetahui rasa sa...    netral"
            ]
          },
          "metadata": {
            "tags": []
          },
          "execution_count": 52
        }
      ]
    },
    {
      "cell_type": "code",
      "metadata": {
        "id": "seFMC9cp92PL",
        "colab_type": "code",
        "outputId": "b433515b-ec31-4619-99fc-86f2b56cdb28",
        "colab": {
          "base_uri": "https://localhost:8080/",
          "height": 195
        }
      },
      "source": [
        "#ambil data secara acak sebanyak 5 data\n",
        "dataset.sample(5)"
      ],
      "execution_count": 53,
      "outputs": [
        {
          "output_type": "execute_result",
          "data": {
            "text/html": [
              "<div>\n",
              "<style scoped>\n",
              "    .dataframe tbody tr th:only-of-type {\n",
              "        vertical-align: middle;\n",
              "    }\n",
              "\n",
              "    .dataframe tbody tr th {\n",
              "        vertical-align: top;\n",
              "    }\n",
              "\n",
              "    .dataframe thead th {\n",
              "        text-align: right;\n",
              "    }\n",
              "</style>\n",
              "<table border=\"1\" class=\"dataframe\">\n",
              "  <thead>\n",
              "    <tr style=\"text-align: right;\">\n",
              "      <th></th>\n",
              "      <th>label</th>\n",
              "      <th>tweet</th>\n",
              "      <th>sentiment</th>\n",
              "    </tr>\n",
              "  </thead>\n",
              "  <tbody>\n",
              "    <tr>\n",
              "      <th>2657</th>\n",
              "      <td>happy</td>\n",
              "      <td>Duh jd cerita kmana2.. Intinya yaa, klo kita s...</td>\n",
              "      <td>baik</td>\n",
              "    </tr>\n",
              "    <tr>\n",
              "      <th>2606</th>\n",
              "      <td>fear</td>\n",
              "      <td>Ini karena deket2 masa pengenalan kampus kan r...</td>\n",
              "      <td>netral</td>\n",
              "    </tr>\n",
              "    <tr>\n",
              "      <th>4070</th>\n",
              "      <td>fear</td>\n",
              "      <td>[askMF] serius nanya, kucing kalo bangun jambe...</td>\n",
              "      <td>netral</td>\n",
              "    </tr>\n",
              "    <tr>\n",
              "      <th>901</th>\n",
              "      <td>sadness</td>\n",
              "      <td>ya. saya gagal menjadi seorang kakak yang seha...</td>\n",
              "      <td>netral</td>\n",
              "    </tr>\n",
              "    <tr>\n",
              "      <th>1070</th>\n",
              "      <td>fear</td>\n",
              "      <td>Serem jg ya yg staf nya wanna1 nge dm in fansi...</td>\n",
              "      <td>netral</td>\n",
              "    </tr>\n",
              "  </tbody>\n",
              "</table>\n",
              "</div>"
            ],
            "text/plain": [
              "        label                                              tweet sentiment\n",
              "2657    happy  Duh jd cerita kmana2.. Intinya yaa, klo kita s...      baik\n",
              "2606     fear  Ini karena deket2 masa pengenalan kampus kan r...    netral\n",
              "4070     fear  [askMF] serius nanya, kucing kalo bangun jambe...    netral\n",
              "901   sadness  ya. saya gagal menjadi seorang kakak yang seha...    netral\n",
              "1070     fear  Serem jg ya yg staf nya wanna1 nge dm in fansi...    netral"
            ]
          },
          "metadata": {
            "tags": []
          },
          "execution_count": 53
        }
      ]
    },
    {
      "cell_type": "code",
      "metadata": {
        "id": "4Cizwdbb92gp",
        "colab_type": "code",
        "outputId": "bdfbe5d2-414c-46ad-af1a-fc1c113f1e99",
        "colab": {
          "base_uri": "https://localhost:8080/",
          "height": 166
        }
      },
      "source": [
        "#datanya secara deskriptif\n",
        "dataset.describe()"
      ],
      "execution_count": 54,
      "outputs": [
        {
          "output_type": "execute_result",
          "data": {
            "text/html": [
              "<div>\n",
              "<style scoped>\n",
              "    .dataframe tbody tr th:only-of-type {\n",
              "        vertical-align: middle;\n",
              "    }\n",
              "\n",
              "    .dataframe tbody tr th {\n",
              "        vertical-align: top;\n",
              "    }\n",
              "\n",
              "    .dataframe thead th {\n",
              "        text-align: right;\n",
              "    }\n",
              "</style>\n",
              "<table border=\"1\" class=\"dataframe\">\n",
              "  <thead>\n",
              "    <tr style=\"text-align: right;\">\n",
              "      <th></th>\n",
              "      <th>label</th>\n",
              "      <th>tweet</th>\n",
              "      <th>sentiment</th>\n",
              "    </tr>\n",
              "  </thead>\n",
              "  <tbody>\n",
              "    <tr>\n",
              "      <th>count</th>\n",
              "      <td>4401</td>\n",
              "      <td>4401</td>\n",
              "      <td>4401</td>\n",
              "    </tr>\n",
              "    <tr>\n",
              "      <th>unique</th>\n",
              "      <td>5</td>\n",
              "      <td>4389</td>\n",
              "      <td>3</td>\n",
              "    </tr>\n",
              "    <tr>\n",
              "      <th>top</th>\n",
              "      <td>anger</td>\n",
              "      <td>[USERNAME] Selamat Siang Sahabat Pos. Kiriman ...</td>\n",
              "      <td>baik</td>\n",
              "    </tr>\n",
              "    <tr>\n",
              "      <th>freq</th>\n",
              "      <td>1101</td>\n",
              "      <td>4</td>\n",
              "      <td>1654</td>\n",
              "    </tr>\n",
              "  </tbody>\n",
              "</table>\n",
              "</div>"
            ],
            "text/plain": [
              "        label                                              tweet sentiment\n",
              "count    4401                                               4401      4401\n",
              "unique      5                                               4389         3\n",
              "top     anger  [USERNAME] Selamat Siang Sahabat Pos. Kiriman ...      baik\n",
              "freq     1101                                                  4      1654"
            ]
          },
          "metadata": {
            "tags": []
          },
          "execution_count": 54
        }
      ]
    },
    {
      "cell_type": "code",
      "metadata": {
        "id": "uPblPgIZ_R3I",
        "colab_type": "code",
        "outputId": "d910183b-95a8-4d6d-95e9-21fa7af2400c",
        "colab": {
          "base_uri": "https://localhost:8080/",
          "height": 34
        }
      },
      "source": [
        "#melihat kolom yang ada\n",
        "dataset.columns"
      ],
      "execution_count": 55,
      "outputs": [
        {
          "output_type": "execute_result",
          "data": {
            "text/plain": [
              "Index(['label', 'tweet', 'sentiment'], dtype='object')"
            ]
          },
          "metadata": {
            "tags": []
          },
          "execution_count": 55
        }
      ]
    },
    {
      "cell_type": "code",
      "metadata": {
        "id": "_WkWqC8B_SHq",
        "colab_type": "code",
        "outputId": "0f0088d4-9849-4baa-c1e7-68694938891b",
        "colab": {
          "base_uri": "https://localhost:8080/",
          "height": 87
        }
      },
      "source": [
        "# menghitung variabel katogorik pada kolom Is_Response\n",
        "dataset['sentiment'].value_counts()"
      ],
      "execution_count": 56,
      "outputs": [
        {
          "output_type": "execute_result",
          "data": {
            "text/plain": [
              "baik      1654\n",
              "netral    1646\n",
              "buruk     1101\n",
              "Name: sentiment, dtype: int64"
            ]
          },
          "metadata": {
            "tags": []
          },
          "execution_count": 56
        }
      ]
    },
    {
      "cell_type": "markdown",
      "metadata": {
        "id": "8POZIWB0BD2C",
        "colab_type": "text"
      },
      "source": [
        "Finally, dijadikan variable bebas dan terikat."
      ]
    },
    {
      "cell_type": "code",
      "metadata": {
        "id": "TtTSTiw4BN6y",
        "colab_type": "code",
        "outputId": "d3ce1f42-5068-46b9-9c7b-9d38138640a2",
        "colab": {
          "base_uri": "https://localhost:8080/",
          "height": 87
        }
      },
      "source": [
        "X = dataset.tweet\n",
        "y = dataset.sentiment\n",
        "\n",
        "X.sample(3)"
      ],
      "execution_count": 57,
      "outputs": [
        {
          "output_type": "execute_result",
          "data": {
            "text/plain": [
              "1805    Beginilah Manusia Yg Berwatak \"Setan\" .. Dia A...\n",
              "1123    Warga: Pak, jalan di daerah kami rusak parah. ...\n",
              "240     Diminta temen bantuin bungkus kado untuk istri...\n",
              "Name: tweet, dtype: object"
            ]
          },
          "metadata": {
            "tags": []
          },
          "execution_count": 57
        }
      ]
    },
    {
      "cell_type": "markdown",
      "metadata": {
        "id": "JIcmV64IAI8v",
        "colab_type": "text"
      },
      "source": [
        "Nah selesai bagian Import Datasetnya. Tapi kok dilihat-lihat Tweet di data saya banyakan buruk daripada baiknya yaa....?"
      ]
    },
    {
      "cell_type": "markdown",
      "metadata": {
        "id": "uo9sSAUtDpJI",
        "colab_type": "text"
      },
      "source": [
        "##Step 2. Text Cleaning\n",
        "\n",
        "Di dataset yang kita gunakan, datanya masih belom terlalu bersih dan kita ingin menghapus kata-kata yang tidak perlu. Kata-kata yang tidak perlu ini istilahnya adalah \"Stop Words\" dan mengandung kata-kata preposisi dan serupanya.\n",
        "\n",
        "Ini contoh visualisasi perbandingan data sebelum dan sesudah text-cleaning (again thanks to Mas Hafidzan):\n",
        "\n",
        "https://onlinemediamasters.com/wp-content/uploads/2015/11/Stop-Words.jpg\n",
        "\n",
        "Nah tapi stopword bahasa indo nggak ada di library NLTK Python, jadi harus diberikan sendiri. Untungnya user github masdevid punya corpora 700+ stopword bahasa Indonesia:\n",
        "\n",
        "https://github.com/masdevid/ID-Stopwords/blob/master/id.stopwords.02.01.2016.txt\n",
        "\n",
        "Yuhuu! Makasih Mas Devid!"
      ]
    },
    {
      "cell_type": "code",
      "metadata": {
        "id": "8Grg_SwAFy_e",
        "colab_type": "code",
        "outputId": "6d08a3bc-5d97-4c1b-febc-3059156108af",
        "colab": {
          "base_uri": "https://localhost:8080/",
          "height": 122
        }
      },
      "source": [
        "import re\n",
        "\n",
        "from bs4 import BeautifulSoup\n",
        "from nltk.tokenize import WordPunctTokenizer\n",
        "\n",
        "\n",
        "tok = WordPunctTokenizer()\n",
        "pat1 = r'@[A-Za-z0-9_]+' #menghilangkat username jika twitter\n",
        "pat2 = r'https?://[^ ]+' #menghilangkan situs website\n",
        "combined_pat = r'|'.join((pat1, pat2)) #join pat1 dan pat 2\n",
        "www_pat = r'www.[^ ]+' #menhilangkan situs website\n",
        "\n",
        "#set_stopword yang di deskripsikan sendiri\n",
        "stopword_user = pd.read_csv('id_stopwords.txt', sep='\\n', header= 0)\n",
        "\n",
        "print(stopword_user.sample(5))\n",
        "\n",
        "#ubah dataframe jadi set\n",
        "stopword_user = set(stopword_user.stopword)\n"
      ],
      "execution_count": 58,
      "outputs": [
        {
          "output_type": "stream",
          "text": [
            "         stopword\n",
            "320  kelihatannya\n",
            "666      sudahlah\n",
            "279       jawaban\n",
            "394    memperbuat\n",
            "561       sedikit\n"
          ],
          "name": "stdout"
        }
      ]
    },
    {
      "cell_type": "code",
      "metadata": {
        "id": "A4MRU2QxH6xW",
        "colab_type": "code",
        "colab": {}
      },
      "source": [
        "def proses_teks(teks):\n",
        "    soup = BeautifulSoup(teks, 'lxml')\n",
        "    souped = soup.get_text()\n",
        "    try:\n",
        "        teks = souped.decode(\"utf-8-sig\").replace(u\"\\ufffd\", \"?\")\n",
        "    except:\n",
        "        teks = souped\n",
        "    teks_bersih= re.sub(\"[^a-zA-Z0-9]\", \" \",(re.sub(www_pat, '', re.sub(combined_pat, '', teks)).lower()))\n",
        "    teks_bersih= ' '.join([word for word in teks_bersih.split() if word not in stopword_user])\n",
        "    return (\" \".join([x for x in tok.tokenize(teks_bersih) if len(x) > 1])).strip()"
      ],
      "execution_count": 0,
      "outputs": []
    },
    {
      "cell_type": "code",
      "metadata": {
        "id": "6xE0cgCLH_pi",
        "colab_type": "code",
        "outputId": "0eed621c-99ff-454f-b878-4f78ef5d86d3",
        "colab": {
          "base_uri": "https://localhost:8080/",
          "height": 72
        }
      },
      "source": [
        "#Test pembersihan teks udah jalan atau belum\n",
        "\n",
        "teks = \"hahaha apakah SAYA seolah-olah ingin pergi pada tanggal 15 bulan februari besok ? tidak karena hari kemarin @twitter suka main asalkan https://www.twitter.com\"\n",
        "teks_bersih = proses_teks(teks)\n",
        "\n",
        "print(\"Before: \" + teks)\n",
        "print(\"After: \" + teks_bersih)"
      ],
      "execution_count": 60,
      "outputs": [
        {
          "output_type": "stream",
          "text": [
            "Before: hahaha apakah SAYA seolah-olah ingin pergi pada tanggal 15 bulan februari besok ? tidak karena hari kemarin @twitter suka main asalkan https://www.twitter.com\n",
            "After: hahaha olah pergi tanggal 15 februari besok kemarin suka main\n"
          ],
          "name": "stdout"
        }
      ]
    },
    {
      "cell_type": "markdown",
      "metadata": {
        "id": "M9YXIOfiK_h2",
        "colab_type": "text"
      },
      "source": [
        "Yes! Corpora kita sudah jalan!\n",
        "\n",
        "Sekarang baru kita bersihkan dataset kita."
      ]
    },
    {
      "cell_type": "code",
      "metadata": {
        "id": "Q5iHeMfPL6DK",
        "colab_type": "code",
        "outputId": "7066eec3-dd87-4649-b662-5f98a4339fc0",
        "colab": {
          "base_uri": "https://localhost:8080/",
          "height": 195
        }
      },
      "source": [
        "#get dataset tweet to empty list, run function proses_teks for every entry\n",
        "x=[]\n",
        "for teks in X:\n",
        "    x.append(proses_teks(teks))\n",
        "\n",
        "#save as pandas dataframe\n",
        "clean_text=pd.DataFrame({'clean_tweet':x})\n",
        "\n",
        "#concat the existing dataset dataframe with new dataframe\n",
        "dataset=pd.concat([dataset,clean_text],axis=1)\n",
        "\n",
        "dataset.head(5)"
      ],
      "execution_count": 61,
      "outputs": [
        {
          "output_type": "execute_result",
          "data": {
            "text/html": [
              "<div>\n",
              "<style scoped>\n",
              "    .dataframe tbody tr th:only-of-type {\n",
              "        vertical-align: middle;\n",
              "    }\n",
              "\n",
              "    .dataframe tbody tr th {\n",
              "        vertical-align: top;\n",
              "    }\n",
              "\n",
              "    .dataframe thead th {\n",
              "        text-align: right;\n",
              "    }\n",
              "</style>\n",
              "<table border=\"1\" class=\"dataframe\">\n",
              "  <thead>\n",
              "    <tr style=\"text-align: right;\">\n",
              "      <th></th>\n",
              "      <th>label</th>\n",
              "      <th>tweet</th>\n",
              "      <th>sentiment</th>\n",
              "      <th>clean_tweet</th>\n",
              "    </tr>\n",
              "  </thead>\n",
              "  <tbody>\n",
              "    <tr>\n",
              "      <th>0</th>\n",
              "      <td>anger</td>\n",
              "      <td>Soal jln Jatibaru,polisi tdk bs GERTAK gubernu...</td>\n",
              "      <td>buruk</td>\n",
              "      <td>jln jatibaru polisi tdk bs gertak gubernur ema...</td>\n",
              "    </tr>\n",
              "    <tr>\n",
              "      <th>1</th>\n",
              "      <td>anger</td>\n",
              "      <td>Sesama cewe lho (kayaknya), harusnya bisa lebi...</td>\n",
              "      <td>buruk</td>\n",
              "      <td>cewe lho kayaknya rasain sibuk jaga rasain sak...</td>\n",
              "    </tr>\n",
              "    <tr>\n",
              "      <th>2</th>\n",
              "      <td>happy</td>\n",
              "      <td>Kepingin gudeg mbarek Bu hj. Amad Foto dari go...</td>\n",
              "      <td>baik</td>\n",
              "      <td>kepingin gudeg mbarek bu hj amad foto google s...</td>\n",
              "    </tr>\n",
              "    <tr>\n",
              "      <th>3</th>\n",
              "      <td>anger</td>\n",
              "      <td>Jln Jatibaru,bagian dari wilayah Tn Abang.Peng...</td>\n",
              "      <td>buruk</td>\n",
              "      <td>jln jatibaru wilayah tn abang pengaturan wilay...</td>\n",
              "    </tr>\n",
              "    <tr>\n",
              "      <th>4</th>\n",
              "      <td>happy</td>\n",
              "      <td>Sharing pengalaman aja, kemarin jam 18.00 bata...</td>\n",
              "      <td>baik</td>\n",
              "      <td>sharing pengalaman aja kemarin jam 18 00 batal...</td>\n",
              "    </tr>\n",
              "  </tbody>\n",
              "</table>\n",
              "</div>"
            ],
            "text/plain": [
              "   label  ...                                        clean_tweet\n",
              "0  anger  ...  jln jatibaru polisi tdk bs gertak gubernur ema...\n",
              "1  anger  ...  cewe lho kayaknya rasain sibuk jaga rasain sak...\n",
              "2  happy  ...  kepingin gudeg mbarek bu hj amad foto google s...\n",
              "3  anger  ...  jln jatibaru wilayah tn abang pengaturan wilay...\n",
              "4  happy  ...  sharing pengalaman aja kemarin jam 18 00 batal...\n",
              "\n",
              "[5 rows x 4 columns]"
            ]
          },
          "metadata": {
            "tags": []
          },
          "execution_count": 61
        }
      ]
    },
    {
      "cell_type": "markdown",
      "metadata": {
        "id": "6hi3YLkPW1q6",
        "colab_type": "text"
      },
      "source": [
        "Ubah variabel bebas kita ke tweet bersih."
      ]
    },
    {
      "cell_type": "code",
      "metadata": {
        "id": "ALG32YlCWw80",
        "colab_type": "code",
        "colab": {}
      },
      "source": [
        "#Assign variabel bebas baru\n",
        "X = dataset.clean_tweet"
      ],
      "execution_count": 0,
      "outputs": []
    },
    {
      "cell_type": "markdown",
      "metadata": {
        "id": "HVQxuJJW8hDq",
        "colab_type": "text"
      },
      "source": [
        "##Step 3. Train - Test Split\n",
        "\n",
        "Di sini kita akan pakai fungsi sklearn yaitu train_test_split.\n",
        "\n",
        "Kita mau ngambil data secara random untuk dijadikan data training dan data uji keberhasilan model.\n",
        "\n",
        "Karena data kita lumayan banyak (4000+) maka rasio training:test bisa dipilih 9:1 dengan faktor random maksimum 255."
      ]
    },
    {
      "cell_type": "code",
      "metadata": {
        "id": "VVP8z2TXAe44",
        "colab_type": "code",
        "outputId": "6227f943-8c55-41f8-e353-e29474d99309",
        "colab": {
          "base_uri": "https://localhost:8080/",
          "height": 52
        }
      },
      "source": [
        "from sklearn.model_selection import train_test_split\n",
        "X_train, X_test, y_train, y_test = train_test_split(X, y, test_size = 0.1, random_state = 255)\n",
        "\n",
        "print(\"Data Training: \" + str(X_train.count()))\n",
        "print(\"Data Uji: \" + str(X_test.count()))"
      ],
      "execution_count": 63,
      "outputs": [
        {
          "output_type": "stream",
          "text": [
            "Data Training: 3960\n",
            "Data Uji: 441\n"
          ],
          "name": "stdout"
        }
      ]
    },
    {
      "cell_type": "markdown",
      "metadata": {
        "id": "1l1Gj0JmNdfw",
        "colab_type": "text"
      },
      "source": [
        "##Step 4. Feature Extraction\n",
        "\n",
        "Feature Extraction adalah step penting yang perlu kita lakukan untuk ekstrak data dari data abstrak seperti teks dan gambar. Nggak bisa ngolah string secara langsung, harus diubah ke angka macam float atau int16 dulu.\n",
        "\n",
        "Dari dokumentasi Scikit-learn:\n",
        "\n",
        "```\n",
        "The sklearn.feature_extraction module can be used to extract features in a format supported by machine learning algorithms from datasets consisting of formats such as text and image.\n",
        "```\n",
        "\n",
        "Nah beberapa metode ekstraksi teks bisa dipakai, tapi di sini akan dipakai TfId Vectorizer. (namun bisa eksplorasi yang lain)"
      ]
    },
    {
      "cell_type": "code",
      "metadata": {
        "id": "HD6cz4CgSB87",
        "colab_type": "code",
        "colab": {}
      },
      "source": [
        "from sklearn.feature_extraction.text import CountVectorizer,TfidfVectorizer, HashingVectorizer\n",
        "\n",
        "#bikin vectorizer, setting bisa diatur2\n",
        "cvec=CountVectorizer()\n",
        "tvec=TfidfVectorizer()\n",
        "hvec=HashingVectorizer()"
      ],
      "execution_count": 0,
      "outputs": []
    },
    {
      "cell_type": "markdown",
      "metadata": {
        "id": "MQSfnvsLSK3v",
        "colab_type": "text"
      },
      "source": [
        "##Step 5. Choosing a Classifier\n",
        "\n",
        "Classifier adalah algoritma pemodelan secara klasifikasi yang bisa kita pilih untuk ngeklasifikasi hasil feature extraction. Again, ada beberapa yang bisa dipilih, tapi saya coba paka metode Random Forest soalnya banyak yang beranggapan Random Forest lumayan robust."
      ]
    },
    {
      "cell_type": "code",
      "metadata": {
        "id": "l_EEgb5PSfNi",
        "colab_type": "code",
        "colab": {}
      },
      "source": [
        "from sklearn.ensemble import RandomForestClassifier\n",
        "from sklearn.linear_model import LogisticRegression\n",
        "from sklearn.naive_bayes import BernoulliNB\n",
        "from sklearn.svm import SVC\n",
        "\n",
        "#bikin classifier, setting bisa diatur2\n",
        "clf1 = RandomForestClassifier(n_estimators = 100)\n",
        "clf2 = LogisticRegression(fit_intercept = False, random_state = 255, max_iter = 1000)\n",
        "clf3 = BernoulliNB(alpha = 1.0)\n",
        "clf4 = SVC(kernel = 'rbf')"
      ],
      "execution_count": 0,
      "outputs": []
    },
    {
      "cell_type": "markdown",
      "metadata": {
        "id": "MHIAbPi5SeeN",
        "colab_type": "text"
      },
      "source": [
        "##Step 6. Creating Model Pipeline and Fitting to Model\n",
        "\n",
        "Sklearn punya library pipeline untuk bikin model, jadi kita bisa ngatur-ngatur step-step di 4 dan 5 dengan mudah dan fleksibel jadi bisa coba-coba macem-macem pipeline untuk cari yang sesuai. Yay!"
      ]
    },
    {
      "cell_type": "code",
      "metadata": {
        "id": "RuaawoWFT74P",
        "colab_type": "code",
        "outputId": "53dfbc15-e12d-4c3a-b822-0ce9d73ecc85",
        "colab": {
          "base_uri": "https://localhost:8080/",
          "height": 107
        }
      },
      "source": [
        "from sklearn.pipeline import Pipeline\n",
        "\n",
        "model_1= Pipeline([('vectorizer',tvec),('classifier',clf2)])\n",
        "model_1.fit(X_train,y_train)\n",
        "hasil=model_1.predict(X_test)"
      ],
      "execution_count": 66,
      "outputs": [
        {
          "output_type": "stream",
          "text": [
            "/usr/local/lib/python3.6/dist-packages/sklearn/linear_model/logistic.py:432: FutureWarning: Default solver will be changed to 'lbfgs' in 0.22. Specify a solver to silence this warning.\n",
            "  FutureWarning)\n",
            "/usr/local/lib/python3.6/dist-packages/sklearn/linear_model/logistic.py:469: FutureWarning: Default multi_class will be changed to 'auto' in 0.22. Specify the multi_class option to silence this warning.\n",
            "  \"this warning.\", FutureWarning)\n"
          ],
          "name": "stderr"
        }
      ]
    },
    {
      "cell_type": "markdown",
      "metadata": {
        "id": "bIennzjPU9hM",
        "colab_type": "text"
      },
      "source": [
        "##Step 7. Check Model Accuracy\n",
        "\n",
        "Mulai bagian yang seru nih, cek akurasi model menggunakan Confusion Matrix."
      ]
    },
    {
      "cell_type": "code",
      "metadata": {
        "id": "2Up9vs6aVNII",
        "colab_type": "code",
        "outputId": "b1e247b6-5b09-4e34-f39a-cfb17bcd318c",
        "colab": {
          "base_uri": "https://localhost:8080/",
          "height": 87
        }
      },
      "source": [
        "from sklearn.metrics import accuracy_score,confusion_matrix\n",
        "\n",
        "print(confusion_matrix(hasil,y_test))\n",
        "print(accuracy_score(hasil,y_test))"
      ],
      "execution_count": 67,
      "outputs": [
        {
          "output_type": "stream",
          "text": [
            "[[130   9  30]\n",
            " [  6  78  21]\n",
            " [ 33  27 107]]\n",
            "0.7142857142857143\n"
          ],
          "name": "stdout"
        }
      ]
    },
    {
      "cell_type": "markdown",
      "metadata": {
        "id": "15lClCxEXMnI",
        "colab_type": "text"
      },
      "source": [
        "OK, 64.6% akurasi pakai Random Forest dengan n=200"
      ]
    },
    {
      "cell_type": "code",
      "metadata": {
        "id": "lfm6OLRRvprt",
        "colab_type": "code",
        "outputId": "21428c4c-a6f5-4913-9548-7ca3d8eb20cf",
        "colab": {
          "base_uri": "https://localhost:8080/",
          "height": 87
        }
      },
      "source": [
        "#Convert hasil ke list (hasil tadinya dalam bentuk ndarray)\n",
        "\n",
        "l_hasil = list(hasil)\n",
        "print(\"Prediksi tweet baik: \" + str(l_hasil.count('baik')))\n",
        "print(\"Prediksi tweet kurang baik: \" + str(l_hasil.count('buruk')))\n",
        "\n",
        "num = 100*(l_hasil.count('baik')/X_test.count())\n",
        "\n",
        "print(\"Persentase tweet baik = {:.2f} %\".format(num)) \n",
        "\n",
        "acc = 100*accuracy_score(hasil,y_test)\n",
        "\n",
        "print(\"Ketelitian = {:.2f} %\".format(acc))"
      ],
      "execution_count": 68,
      "outputs": [
        {
          "output_type": "stream",
          "text": [
            "Prediksi tweet baik: 169\n",
            "Prediksi tweet kurang baik: 105\n",
            "Persentase tweet baik = 38.32 %\n",
            "Ketelitian = 71.43 %\n"
          ],
          "name": "stdout"
        }
      ]
    },
    {
      "cell_type": "markdown",
      "metadata": {
        "id": "PmUYAMS1p6gc",
        "colab_type": "text"
      },
      "source": [
        "##Step 8. Visualizing Data\n",
        "\n",
        "Visualisasi data dilakukan menggunakan Matplotlib.\n",
        "\n"
      ]
    },
    {
      "cell_type": "code",
      "metadata": {
        "id": "PEnScwdcy9-O",
        "colab_type": "code",
        "outputId": "2846ce68-34e3-4d5c-8e69-f1073d681a5b",
        "colab": {
          "base_uri": "https://localhost:8080/",
          "height": 269
        }
      },
      "source": [
        "import matplotlib.pyplot as plt\n",
        "\n",
        "sizes = [l_hasil.count('baik'), l_hasil.count('buruk'), l_hasil.count('netral')]\n",
        "labels = ['baik','buruk','netral']\n",
        "colors = ['blue', 'red', 'yellow']\n",
        "explode = (0.1,0,0)\n",
        "\n",
        "#patches, texts = plt.pie(sizes, colors=colors, startangle=-270)\n",
        "\n",
        "fig1, ax1 = plt.subplots()\n",
        "ax1.pie(sizes, explode=explode, labels=labels, autopct='%1.1f%%',\n",
        "        shadow=True, startangle=90, colors=colors)\n",
        "ax1.axis('equal')  # Equal aspect ratio ensures that pie is drawn as a circle.\n",
        "\n",
        "plt.legend(labels, loc=\"best\")\n",
        "plt.title(label=\"Hasil Sentimen Dataset Test\", loc='center')\n",
        "plt.savefig('test_data_result.png', dpi=80)\n",
        "plt.show()"
      ],
      "execution_count": 69,
      "outputs": [
        {
          "output_type": "display_data",
          "data": {
            "image/png": "[encoded data removed]",
            "text/plain": [
              "<Figure size 432x288 with 1 Axes>"
            ]
          },
          "metadata": {
            "tags": []
          }
        }
      ]
    },
    {
      "cell_type": "markdown",
      "metadata": {
        "id": "9M6LZ-kX9UKo",
        "colab_type": "text"
      },
      "source": [
        "##Step 9. Saving Model\n",
        "Ketika sudah didapatkan model yang cukup baik, save model ke file. Menggunakan library Joblib dari Sklearn\n",
        "\n",
        "https://machinelearningmastery.com/save-load-machine-learning-models-python-scikit-learn/"
      ]
    },
    {
      "cell_type": "code",
      "metadata": {
        "id": "G5nI6vuk9pOK",
        "colab_type": "code",
        "outputId": "a3a9d4f5-1333-4bba-dee1-42a0c33bb650",
        "colab": {
          "base_uri": "https://localhost:8080/",
          "height": 87
        }
      },
      "source": [
        "from sklearn.externals import joblib\n",
        "\n",
        "filename = 'finalized_model.sav'\n",
        "joblib.dump(model_1, filename)\n",
        " \n",
        "# some time later...\n",
        " \n",
        "# load the model from disk\n",
        "loaded_model = joblib.load(filename)\n",
        "result = loaded_model.predict(X_test)\n",
        "\n",
        "print(confusion_matrix(result,y_test))\n",
        "print(accuracy_score(result,y_test))"
      ],
      "execution_count": 70,
      "outputs": [
        {
          "output_type": "stream",
          "text": [
            "[[130   9  30]\n",
            " [  6  78  21]\n",
            " [ 33  27 107]]\n",
            "0.7142857142857143\n"
          ],
          "name": "stdout"
        }
      ]
    },
    {
      "cell_type": "markdown",
      "metadata": {
        "id": "j5SApI26SNj1",
        "colab_type": "text"
      },
      "source": [
        "## Intermezzo: Have A little fun\n",
        "\n",
        "Coba kita prediksikan dua tweet yang konotasinya masing2 bisa dinilai sendiri. Kalau prediksi anda tidak sesuai dengan yang diharapkan berarti model anda masih ada masalah hahaha"
      ]
    },
    {
      "cell_type": "code",
      "metadata": {
        "id": "fsT-u2L-SicS",
        "colab_type": "code",
        "outputId": "a0813287-2853-40ab-9010-3f4def8b4ed2",
        "colab": {
          "base_uri": "https://localhost:8080/",
          "height": 52
        }
      },
      "source": [
        "coba1 = ([\"kalo narkoba jadi pembenaran buat urusan beban hidup, presiden kita mending rawat kebon ganja daripada pelihara kambing\"])\n",
        "coba2 = ([\"cegahlah kerusuhan dengan selalu saling pengertian tanpa memikirkan ego masing masing..ber musyawarah lah dan mufakat\"])\n",
        "res1 = model_1.predict(coba1)\n",
        "print(res1)\n",
        "res2 = model_1.predict(coba2)\n",
        "print(res2)"
      ],
      "execution_count": 87,
      "outputs": [
        {
          "output_type": "stream",
          "text": [
            "['buruk']\n",
            "['baik']\n"
          ],
          "name": "stdout"
        }
      ]
    },
    {
      "cell_type": "markdown",
      "metadata": {
        "id": "ngoniHc0KZrK",
        "colab_type": "text"
      },
      "source": [
        "\n",
        "##The Challenge 1: Getting Real, Untested Dataset\n",
        "\n",
        "Pertama-tama kita akan mengambil data dari Twitter. \n",
        "Metode ambil data yang digunakan adalah via Twitter Developer API yang terhubung dengan akun twitter saya. Metode ini sangat mudah apabila dibandingkan dengan webscraping tanpa menggunakan API.\n",
        "\n",
        "Referensi dari dokumentasi tweepy 3.8.0.\n",
        "\n",
        "http://docs.tweepy.org/en/latest/\n",
        "\n",
        "Via API, didapatkan consumer key, secret key, dan access token yang digunakan untuk tersambung dengan twitter.\n",
        "\n",
        "Tweet dicari dengan kata kunci spesifik (dalam proyek ini, saya diminta mencari sentiment mengenai Polisi) dan data yang dapat diambil berjumlah maksimum 3200 tweets dalam 15 menit (limitasi Twitter API)\n",
        "\n",
        "Tweet disimpan dengan format JSON atau CSV dengan struktur\n",
        "\n",
        "{tweets}\n",
        "  name:\n",
        "  text:\n",
        "  location"
      ]
    },
    {
      "cell_type": "code",
      "metadata": {
        "id": "qi7H_NhingnU",
        "colab_type": "code",
        "colab": {}
      },
      "source": [
        "#\"\"\"\n",
        "#GET RECENT TWEETS, EXPORT TO JSON\n",
        "\n",
        "import tweepy, json, time\n",
        "\n",
        "# Go to http://apps.twitter.com and create an app.\n",
        "# The consumer key and secret will be generated for you after\n",
        "consumer_key=\"yq6b8RykGgWJBKyFxyb0OjBoP\"\n",
        "consumer_secret=\"nBDdrquPmKOITE4a4mzHtFf5kVwd2a1IVZc0hYuXpDbBiOITwb\"\n",
        "\n",
        "# After the step above, you will be redirected to your app's page.\n",
        "# Create an access token under the the \"Your access token\" section\n",
        "access_token=\"1326996704-fDpADUkOIn9jQYqwuLgZMoP4crEmUfp0ZgkGtdk\"\n",
        "access_token_secret=\"Km5vj5c6cXzOlLe2Vl7KeOQC0qPgdLUPK4TGr2PumSXtb\"\n",
        "\n",
        "auth = tweepy.auth.OAuthHandler(consumer_key, consumer_secret)\n",
        "auth.set_access_token(access_token, access_token_secret)\n",
        "\n",
        "api = tweepy.API(auth,wait_on_rate_limit=True, wait_on_rate_limit_notify=True)\n",
        "\n",
        "search = tweepy.Cursor(api.search, q=\"prabowo -filter:retweets\", result_type=\"recent\", lang=\"id\", tweet_mode='extended').items(2500)\n",
        "\n",
        "data = {}\n",
        "data['tweets'] = []\n",
        "\n",
        "for item in search:\n",
        "  data['tweets'].append({\n",
        "    'name': item.user.name,\n",
        "    'text': item.full_text,\n",
        "    'location': item.user.location})\n",
        "  \n",
        "with open('data.txt', 'w') as outfile:\n",
        "    json.dump(data, outfile)\n",
        "\n",
        "#\"\"\""
      ],
      "execution_count": 0,
      "outputs": []
    },
    {
      "cell_type": "markdown",
      "metadata": {
        "id": "IUbsYdk14GAm",
        "colab_type": "text"
      },
      "source": [
        "Importing into pandas dataframe"
      ]
    },
    {
      "cell_type": "code",
      "metadata": {
        "id": "CpA5av63120w",
        "colab_type": "code",
        "outputId": "58b891d7-5238-47a7-fc7e-d09e79538b83",
        "colab": {
          "base_uri": "https://localhost:8080/",
          "height": 170
        }
      },
      "source": [
        "from pandas.io.json import json_normalize\n",
        "\n",
        "with open('data.txt') as f:\n",
        "    d = json.load(f)\n",
        "\n",
        "data = json_normalize(d['tweets'])\n",
        "data.head(3)"
      ],
      "execution_count": 89,
      "outputs": [
        {
          "output_type": "execute_result",
          "data": {
            "text/html": [
              "<div>\n",
              "<style scoped>\n",
              "    .dataframe tbody tr th:only-of-type {\n",
              "        vertical-align: middle;\n",
              "    }\n",
              "\n",
              "    .dataframe tbody tr th {\n",
              "        vertical-align: top;\n",
              "    }\n",
              "\n",
              "    .dataframe thead th {\n",
              "        text-align: right;\n",
              "    }\n",
              "</style>\n",
              "<table border=\"1\" class=\"dataframe\">\n",
              "  <thead>\n",
              "    <tr style=\"text-align: right;\">\n",
              "      <th></th>\n",
              "      <th>location</th>\n",
              "      <th>name</th>\n",
              "      <th>text</th>\n",
              "    </tr>\n",
              "  </thead>\n",
              "  <tbody>\n",
              "    <tr>\n",
              "      <th>0</th>\n",
              "      <td></td>\n",
              "      <td>Rizky putra</td>\n",
              "      <td>@KingPurw4 Klo si goblok @KingPurw4 ini cuma b...</td>\n",
              "    </tr>\n",
              "    <tr>\n",
              "      <th>1</th>\n",
              "      <td>DKI Jakarta, Indonesia</td>\n",
              "      <td>Ultra Insting</td>\n",
              "      <td>@ustadtengkuzul Terus diganti sm prabowo maksu...</td>\n",
              "    </tr>\n",
              "    <tr>\n",
              "      <th>2</th>\n",
              "      <td></td>\n",
              "      <td>『I』『N』『D』『O』『N』『E』『S』『I』『A』 『M』『E』『N』『A』『N』『G』💯</td>\n",
              "      <td>@___Ghostababil_ @aniesbaswedan Mendingan foku...</td>\n",
              "    </tr>\n",
              "  </tbody>\n",
              "</table>\n",
              "</div>"
            ],
            "text/plain": [
              "                 location  ...                                               text\n",
              "0                          ...  @KingPurw4 Klo si goblok @KingPurw4 ini cuma b...\n",
              "1  DKI Jakarta, Indonesia  ...  @ustadtengkuzul Terus diganti sm prabowo maksu...\n",
              "2                          ...  @___Ghostababil_ @aniesbaswedan Mendingan foku...\n",
              "\n",
              "[3 rows x 3 columns]"
            ]
          },
          "metadata": {
            "tags": []
          },
          "execution_count": 89
        }
      ]
    },
    {
      "cell_type": "code",
      "metadata": {
        "id": "cxj2mYmM77l0",
        "colab_type": "code",
        "outputId": "f2331096-0794-461b-efc7-055f541e3c3c",
        "colab": {
          "base_uri": "https://localhost:8080/",
          "height": 87
        }
      },
      "source": [
        "data.count()"
      ],
      "execution_count": 90,
      "outputs": [
        {
          "output_type": "execute_result",
          "data": {
            "text/plain": [
              "location    2500\n",
              "name        2500\n",
              "text        2500\n",
              "dtype: int64"
            ]
          },
          "metadata": {
            "tags": []
          },
          "execution_count": 90
        }
      ]
    },
    {
      "cell_type": "code",
      "metadata": {
        "id": "A73b2XbH8Bhc",
        "colab_type": "code",
        "outputId": "1fb5e29b-3076-473e-f1c4-d463436032e8",
        "colab": {
          "base_uri": "https://localhost:8080/",
          "height": 136
        }
      },
      "source": [
        "data.tail(3)"
      ],
      "execution_count": 91,
      "outputs": [
        {
          "output_type": "execute_result",
          "data": {
            "text/html": [
              "<div>\n",
              "<style scoped>\n",
              "    .dataframe tbody tr th:only-of-type {\n",
              "        vertical-align: middle;\n",
              "    }\n",
              "\n",
              "    .dataframe tbody tr th {\n",
              "        vertical-align: top;\n",
              "    }\n",
              "\n",
              "    .dataframe thead th {\n",
              "        text-align: right;\n",
              "    }\n",
              "</style>\n",
              "<table border=\"1\" class=\"dataframe\">\n",
              "  <thead>\n",
              "    <tr style=\"text-align: right;\">\n",
              "      <th></th>\n",
              "      <th>location</th>\n",
              "      <th>name</th>\n",
              "      <th>text</th>\n",
              "    </tr>\n",
              "  </thead>\n",
              "  <tbody>\n",
              "    <tr>\n",
              "      <th>2497</th>\n",
              "      <td>Indonesia</td>\n",
              "      <td>Senandung</td>\n",
              "      <td>4. Menanggapi gosip tersebut, Sekjen DPP PDIP ...</td>\n",
              "    </tr>\n",
              "    <tr>\n",
              "      <th>2498</th>\n",
              "      <td>Indonesia</td>\n",
              "      <td>Senandung</td>\n",
              "      <td>2. Pertemuan Ketua Umum DPP PDI Perjuangan, Me...</td>\n",
              "    </tr>\n",
              "    <tr>\n",
              "      <th>2499</th>\n",
              "      <td>Indonesia</td>\n",
              "      <td>Senandung</td>\n",
              "      <td>1. Isu Kebangsaan Menjadi Topik Pembahasan Per...</td>\n",
              "    </tr>\n",
              "  </tbody>\n",
              "</table>\n",
              "</div>"
            ],
            "text/plain": [
              "       location       name                                               text\n",
              "2497  Indonesia  Senandung  4. Menanggapi gosip tersebut, Sekjen DPP PDIP ...\n",
              "2498  Indonesia  Senandung  2. Pertemuan Ketua Umum DPP PDI Perjuangan, Me...\n",
              "2499  Indonesia  Senandung  1. Isu Kebangsaan Menjadi Topik Pembahasan Per..."
            ]
          },
          "metadata": {
            "tags": []
          },
          "execution_count": 91
        }
      ]
    },
    {
      "cell_type": "code",
      "metadata": {
        "id": "QhinP4HW8EKn",
        "colab_type": "code",
        "outputId": "27eb14ea-ea06-47c7-8a77-dff8f9498cf4",
        "colab": {
          "base_uri": "https://localhost:8080/",
          "height": 195
        }
      },
      "source": [
        "data.sample(5)"
      ],
      "execution_count": 92,
      "outputs": [
        {
          "output_type": "execute_result",
          "data": {
            "text/html": [
              "<div>\n",
              "<style scoped>\n",
              "    .dataframe tbody tr th:only-of-type {\n",
              "        vertical-align: middle;\n",
              "    }\n",
              "\n",
              "    .dataframe tbody tr th {\n",
              "        vertical-align: top;\n",
              "    }\n",
              "\n",
              "    .dataframe thead th {\n",
              "        text-align: right;\n",
              "    }\n",
              "</style>\n",
              "<table border=\"1\" class=\"dataframe\">\n",
              "  <thead>\n",
              "    <tr style=\"text-align: right;\">\n",
              "      <th></th>\n",
              "      <th>location</th>\n",
              "      <th>name</th>\n",
              "      <th>text</th>\n",
              "    </tr>\n",
              "  </thead>\n",
              "  <tbody>\n",
              "    <tr>\n",
              "      <th>217</th>\n",
              "      <td></td>\n",
              "      <td>Aa Danny</td>\n",
              "      <td>@ronavioleta @prabowo Kita lihat saja dulu, me...</td>\n",
              "    </tr>\n",
              "    <tr>\n",
              "      <th>638</th>\n",
              "      <td>Jakarta Capital Region</td>\n",
              "      <td>Tagar.id</td>\n",
              "      <td>PKS Komentari Pertemuan Megawati-Prabowo https...</td>\n",
              "    </tr>\n",
              "    <tr>\n",
              "      <th>819</th>\n",
              "      <td>Bogor</td>\n",
              "      <td>K∆🆖 J🅰️MU#FNI</td>\n",
              "      <td>@luvanneback @InsyaAllah_02 @jokowi @aniesbasw...</td>\n",
              "    </tr>\n",
              "    <tr>\n",
              "      <th>1194</th>\n",
              "      <td>Bumi Pejuang</td>\n",
              "      <td>M4T BADA</td>\n",
              "      <td>@InsyaAllah_02 @dusrimulya @jokowi @aniesbaswe...</td>\n",
              "    </tr>\n",
              "    <tr>\n",
              "      <th>158</th>\n",
              "      <td>Bekasi Selatan, Indonesia</td>\n",
              "      <td>JR_News</td>\n",
              "      <td>Megawati dan Jokowi Mau Pisahkan Prabowo dari ...</td>\n",
              "    </tr>\n",
              "  </tbody>\n",
              "</table>\n",
              "</div>"
            ],
            "text/plain": [
              "                       location  ...                                               text\n",
              "217                              ...  @ronavioleta @prabowo Kita lihat saja dulu, me...\n",
              "638      Jakarta Capital Region  ...  PKS Komentari Pertemuan Megawati-Prabowo https...\n",
              "819                       Bogor  ...  @luvanneback @InsyaAllah_02 @jokowi @aniesbasw...\n",
              "1194               Bumi Pejuang  ...  @InsyaAllah_02 @dusrimulya @jokowi @aniesbaswe...\n",
              "158   Bekasi Selatan, Indonesia  ...  Megawati dan Jokowi Mau Pisahkan Prabowo dari ...\n",
              "\n",
              "[5 rows x 3 columns]"
            ]
          },
          "metadata": {
            "tags": []
          },
          "execution_count": 92
        }
      ]
    },
    {
      "cell_type": "markdown",
      "metadata": {
        "id": "cuR6Xn-M4FCV",
        "colab_type": "text"
      },
      "source": [
        "Variabel bebas"
      ]
    },
    {
      "cell_type": "code",
      "metadata": {
        "id": "cKkl4BmV4UiF",
        "colab_type": "code",
        "outputId": "60dca934-e0a4-4997-dd6e-50074c34d8d2",
        "colab": {
          "base_uri": "https://localhost:8080/",
          "height": 87
        }
      },
      "source": [
        "X_unseen = data.text\n",
        "\n",
        "X_unseen.sample(3)"
      ],
      "execution_count": 93,
      "outputs": [
        {
          "output_type": "execute_result",
          "data": {
            "text/plain": [
              "186     @Abid_Dzoe @janggocelebes_ @prabowo @sandiuno ...\n",
              "1132    @Jhonkosmik @Dhanie7771 Buat saya semua tentan...\n",
              "2087    6. Upaya itu, adalah kelanjutan dari pertemuan...\n",
              "Name: text, dtype: object"
            ]
          },
          "metadata": {
            "tags": []
          },
          "execution_count": 93
        }
      ]
    },
    {
      "cell_type": "markdown",
      "metadata": {
        "id": "C7MMG4JILdbD",
        "colab_type": "text"
      },
      "source": [
        "##The Challenge 2: Cleaning the New Dataset"
      ]
    },
    {
      "cell_type": "code",
      "metadata": {
        "id": "jFz7hKcD8XfG",
        "colab_type": "code",
        "outputId": "561e39ea-a391-4e16-a3e8-97ab317feb42",
        "colab": {
          "base_uri": "https://localhost:8080/",
          "height": 279
        }
      },
      "source": [
        "#get dataset tweet to empty list, run function proses_teks for every entry\n",
        "x_unseen=[]\n",
        "for teks in X_unseen:\n",
        "    x_unseen.append(proses_teks(teks))\n",
        "\n",
        "#save as pandas dataframe\n",
        "clean_text=pd.DataFrame({'clean_tweet':x_unseen})\n",
        "\n",
        "#concat the existing dataset dataframe with new dataframe\n",
        "data=pd.concat([data,clean_text],axis=1)\n",
        "\n",
        "X_unseen = data.clean_tweet\n",
        "\n",
        "data.head(5)"
      ],
      "execution_count": 94,
      "outputs": [
        {
          "output_type": "execute_result",
          "data": {
            "text/html": [
              "<div>\n",
              "<style scoped>\n",
              "    .dataframe tbody tr th:only-of-type {\n",
              "        vertical-align: middle;\n",
              "    }\n",
              "\n",
              "    .dataframe tbody tr th {\n",
              "        vertical-align: top;\n",
              "    }\n",
              "\n",
              "    .dataframe thead th {\n",
              "        text-align: right;\n",
              "    }\n",
              "</style>\n",
              "<table border=\"1\" class=\"dataframe\">\n",
              "  <thead>\n",
              "    <tr style=\"text-align: right;\">\n",
              "      <th></th>\n",
              "      <th>location</th>\n",
              "      <th>name</th>\n",
              "      <th>text</th>\n",
              "      <th>clean_tweet</th>\n",
              "    </tr>\n",
              "  </thead>\n",
              "  <tbody>\n",
              "    <tr>\n",
              "      <th>0</th>\n",
              "      <td></td>\n",
              "      <td>Rizky putra</td>\n",
              "      <td>@KingPurw4 Klo si goblok @KingPurw4 ini cuma b...</td>\n",
              "      <td>klo si goblok bisanya ngirim berita berita ber...</td>\n",
              "    </tr>\n",
              "    <tr>\n",
              "      <th>1</th>\n",
              "      <td>DKI Jakarta, Indonesia</td>\n",
              "      <td>Ultra Insting</td>\n",
              "      <td>@ustadtengkuzul Terus diganti sm prabowo maksu...</td>\n",
              "      <td>diganti sm prabowo maksudnya gitu</td>\n",
              "    </tr>\n",
              "    <tr>\n",
              "      <th>2</th>\n",
              "      <td></td>\n",
              "      <td>『I』『N』『D』『O』『N』『E』『S』『I』『A』 『M』『E』『N』『A』『N』『G』💯</td>\n",
              "      <td>@___Ghostababil_ @aniesbaswedan Mendingan foku...</td>\n",
              "      <td>mendingan fokus ijtima ulama</td>\n",
              "    </tr>\n",
              "    <tr>\n",
              "      <th>3</th>\n",
              "      <td>jakarta</td>\n",
              "      <td>pro van gaal</td>\n",
              "      <td>@IreneViena Prabowo tak.disetujui amrik,makany...</td>\n",
              "      <td>prabowo disetujui amrik sepakat jae dorong per...</td>\n",
              "    </tr>\n",
              "    <tr>\n",
              "      <th>4</th>\n",
              "      <td>Indonesia</td>\n",
              "      <td>Gadun Garis Lucu</td>\n",
              "      <td>rizieq shihab enggk ada komen semenjak Prabowo...</td>\n",
              "      <td>rizieq shihab enggk komen semenjak prabowo meg...</td>\n",
              "    </tr>\n",
              "  </tbody>\n",
              "</table>\n",
              "</div>"
            ],
            "text/plain": [
              "                 location  ...                                        clean_tweet\n",
              "0                          ...  klo si goblok bisanya ngirim berita berita ber...\n",
              "1  DKI Jakarta, Indonesia  ...                  diganti sm prabowo maksudnya gitu\n",
              "2                          ...                       mendingan fokus ijtima ulama\n",
              "3                 jakarta  ...  prabowo disetujui amrik sepakat jae dorong per...\n",
              "4               Indonesia  ...  rizieq shihab enggk komen semenjak prabowo meg...\n",
              "\n",
              "[5 rows x 4 columns]"
            ]
          },
          "metadata": {
            "tags": []
          },
          "execution_count": 94
        }
      ]
    },
    {
      "cell_type": "markdown",
      "metadata": {
        "id": "9UBzn1vN85rX",
        "colab_type": "text"
      },
      "source": [
        "##The Challenge 3: Predict with Previous Model Pipeline"
      ]
    },
    {
      "cell_type": "code",
      "metadata": {
        "id": "dRfPoym4_FeF",
        "colab_type": "code",
        "colab": {}
      },
      "source": [
        "filename = 'finalized_model.sav'\n",
        "loaded_model = joblib.load(filename)\n",
        "result = loaded_model.predict(X_unseen)"
      ],
      "execution_count": 0,
      "outputs": []
    },
    {
      "cell_type": "code",
      "metadata": {
        "id": "AdRofR_1_vrl",
        "colab_type": "code",
        "outputId": "df3cde11-36a3-47bd-d1d9-702a05132188",
        "colab": {
          "base_uri": "https://localhost:8080/",
          "height": 338
        }
      },
      "source": [
        "#Convert hasil ke list (hasil tadinya dalam bentuk ndarray)\n",
        "\n",
        "l_result = list(result)\n",
        "print(\"Prediksi tweet baik: \" + str(l_result.count('baik')))\n",
        "print(\"Prediksi tweet kurang baik: \" + str(l_result.count('buruk')))\n",
        "\n",
        "num = 100*(l_result.count('baik')/X_unseen.count())\n",
        "\n",
        "print(\"Persentase tweet baik = {:.2f} %\".format(num)) \n",
        "\n",
        "acc = 100*accuracy_score(hasil,y_test)\n",
        "\n",
        "print(\"Ketelitian = {:.2f} %\".format(acc))\n",
        "\n",
        "import matplotlib.pyplot as plt\n",
        "\n",
        "sizes = [l_result.count('baik'), l_result.count('buruk'), l_result.count('netral')]\n",
        "labels = ['baik','buruk','netral']\n",
        "colors = ['blue', 'red', 'yellow']\n",
        "explode = (0.1,0,0)\n",
        "\n",
        "#patches, texts = plt.pie(sizes, colors=colors, startangle=-270)\n",
        "\n",
        "fig1, ax1 = plt.subplots()\n",
        "ax1.pie(sizes, explode=explode, labels=labels, autopct='%1.1f%%',\n",
        "        shadow=True, startangle=90, colors=colors)\n",
        "ax1.axis('equal')  # Equal aspect ratio ensures that pie is drawn as a circle.\n",
        "\n",
        "plt.legend(labels, loc=\"best\")\n",
        "plt.title(label=\"Hasil Sentimen Dataset Test\", loc='center')\n",
        "plt.savefig('test_data_result.png', dpi=80)\n",
        "plt.show()"
      ],
      "execution_count": 98,
      "outputs": [
        {
          "output_type": "stream",
          "text": [
            "Prediksi tweet baik: 683\n",
            "Prediksi tweet kurang baik: 1360\n",
            "Persentase tweet baik = 27.32 %\n",
            "Ketelitian = 71.43 %\n"
          ],
          "name": "stdout"
        },
        {
          "output_type": "display_data",
          "data": {
            "image/png": "[encoded data removed]",
            "text/plain": [
              "<Figure size 432x288 with 1 Axes>"
            ]
          },
          "metadata": {
            "tags": []
          }
        }
      ]
    },
    {
      "cell_type": "markdown",
      "metadata": {
        "id": "KgrWr1lM5ARn",
        "colab_type": "text"
      },
      "source": [
        "##Step 10: *Going Over the Clouds*\n",
        "\n",
        "Pada step ini akan dilakukan proses otomasi script2 python yang kita buat dan dalam skala yang lebih besar, karena semua processing data akan dilakukan di Google Cloud Platform. Saya tidak akan menuliskan tutorial GCP di sini karena akan dibahas di post lain.\n",
        "\n",
        "API yang dibutuhkan antara lain:\n",
        "\n",
        "1. Google Compute Engine\n",
        "2. Google Cloud Bucket Storage\n",
        "3. Google Cloud Dataproc Cluster\n",
        "\n",
        "- Spesifikasi Compute Engine VM:\n",
        "  - Machine = 1-n-standard1\n",
        "  - Ubuntu 18.04\n",
        "  - Zone = asia-southeast1-b\n",
        "  \n",
        "- Spesifikasi Cloud Bucket:\n",
        "  - Zone = asia-southeast1 (singapore)\n",
        "\n",
        "- Spesifikasi Cluster VM:\n",
        "  - 1 master n-nodes\n",
        "  - Master = 13GB Memory, Ubuntu 18.04 Image with Spark 2.4, Anaconda installed\n",
        "  - Node = 2x3.5GB Memory"
      ]
    },
    {
      "cell_type": "markdown",
      "metadata": {
        "id": "TD9FPxxHQSiO",
        "colab_type": "text"
      },
      "source": [
        " ## Step 11. Automation\n",
        " \n",
        " SSH ke Compute Engine dan buat 2 buah script:\n",
        "  \n",
        "  1. Python3 Script untuk scrape data dari Twitter satu hari sekali\n",
        "  2. Cron Script untuk mengirim data hasil scrape ke Bucket dan otomatisasi proses tersebut"
      ]
    },
    {
      "cell_type": "markdown",
      "metadata": {
        "id": "HAqM_zbgYkca",
        "colab_type": "text"
      },
      "source": [
        "Python script yang dibuat merupakan script Tweepy yang kita sudah buat sebelumnya.\n",
        "\n",
        "### Python Script"
      ]
    },
    {
      "cell_type": "code",
      "metadata": {
        "id": "IXQLfvB6QRip",
        "colab_type": "code",
        "colab": {
          "base_uri": "https://localhost:8080/",
          "height": 54
        },
        "outputId": "f7e41f91-a012-47b0-c972-76b117bc53a5"
      },
      "source": [
        "\"\"\"\n",
        "#Python Script\n",
        "#get_tweets.py\n",
        "\n",
        "#GET RECENT TWEETS, EXPORT TO JSON\n",
        "\n",
        "import tweepy, json, time\n",
        "\n",
        "# Go to http://apps.twitter.com and create an app.\n",
        "# The consumer key and secret will be generated for you after\n",
        "consumer_key=\"yq6b8RykGgWJBKyFxyb0OjBoP\"\n",
        "consumer_secret=\"nBDdrquPmKOITE4a4mzHtFf5kVwd2a1IVZc0hYuXpDbBiOITwb\"\n",
        "\n",
        "# After the step above, you will be redirected to your app's page.\n",
        "# Create an access token under the the \"Your access token\" section\n",
        "access_token=\"1326996704-fDpADUkOIn9jQYqwuLgZMoP4crEmUfp0ZgkGtdk\"\n",
        "access_token_secret=\"Km5vj5c6cXzOlLe2Vl7KeOQC0qPgdLUPK4TGr2PumSXtb\"\n",
        "\n",
        "auth = tweepy.auth.OAuthHandler(consumer_key, consumer_secret)\n",
        "auth.set_access_token(access_token, access_token_secret)\n",
        "\n",
        "api = tweepy.API(auth, wait_on_rate_limit=True)\n",
        "\n",
        "search = tweepy.Cursor(api.search, q=\"prabowo\", result_type=\"recent\", lang=\"id\", tweet_mode='extended').items(10000)\n",
        "\n",
        "data = {}\n",
        "data['tweets'] = []\n",
        "\n",
        "for item in search:\n",
        "  data['tweets'].append({\n",
        "    'name': item.user.name,\n",
        "    'text': item.full_text,\n",
        "    'location': item.user.location})\n",
        "  \n",
        "with open('data.txt', 'w') as outfile:\n",
        "    json.dump(data, outfile)\n",
        "    \n",
        "print('Done getting tweets.')\n",
        "\"\"\""
      ],
      "execution_count": 81,
      "outputs": [
        {
          "output_type": "execute_result",
          "data": {
            "text/plain": [
              "'\\n#Python Script\\n#get_tweets.py\\n\\n#GET RECENT TWEETS, EXPORT TO JSON\\n\\nimport tweepy, json, time\\n\\n# Go to http://apps.twitter.com and create an app.\\n# The consumer key and secret will be generated for you after\\nconsumer_key=\"yq6b8RykGgWJBKyFxyb0OjBoP\"\\nconsumer_secret=\"nBDdrquPmKOITE4a4mzHtFf5kVwd2a1IVZc0hYuXpDbBiOITwb\"\\n\\n# After the step above, you will be redirected to your app\\'s page.\\n# Create an access token under the the \"Your access token\" section\\naccess_token=\"1326996704-fDpADUkOIn9jQYqwuLgZMoP4crEmUfp0ZgkGtdk\"\\naccess_token_secret=\"Km5vj5c6cXzOlLe2Vl7KeOQC0qPgdLUPK4TGr2PumSXtb\"\\n\\nauth = tweepy.auth.OAuthHandler(consumer_key, consumer_secret)\\nauth.set_access_token(access_token, access_token_secret)\\n\\napi = tweepy.API(auth, wait_on_rate_limit=True)\\n\\nsearch = tweepy.Cursor(api.search, q=\"prabowo\", result_type=\"recent\", lang=\"id\", tweet_mode=\\'extended\\').items(10000)\\n\\ndata = {}\\ndata[\\'tweets\\'] = []\\n\\nfor item in search:\\n  data[\\'tweets\\'].append({\\n    \\'name\\': item.user.name,\\n    \\'text\\': item.full_text,\\n    \\'location\\': item.user.location})\\n  \\nwith open(\\'data.txt\\', \\'w\\') as outfile:\\n    json.dump(data, outfile)\\n    \\nprint(\\'Done getting tweets.\\')\\n'"
            ]
          },
          "metadata": {
            "tags": []
          },
          "execution_count": 81
        }
      ]
    },
    {
      "cell_type": "markdown",
      "metadata": {
        "id": "CJi58-2_YIcX",
        "colab_type": "text"
      },
      "source": [
        "berikutnya, masuk ke crontab lewat python virtual environment.\n",
        "\n",
        "Guide memasang virtualenv python:\n",
        "\n",
        "https://packaging.python.org/guides/installing-using-pip-and-virtualenv/\n",
        "\n",
        "kemudian masuk ke virtualenv dan buka crontab di\n",
        "\n",
        "```\n",
        "crontab -e\n",
        "```\n",
        "\n",
        "atau\n",
        "\n",
        "\n",
        "```\n",
        "sudo crontab -e\n",
        "```\n",
        "\n",
        "### Crontab script\n",
        "\n",
        "\n",
        "```\n",
        "00 12 * * * python3 /home/sandw/twitter_sa/get_tweets.py \n",
        "\n",
        "30 12 * * * sudo gsutil cp /home/sandw/twitter_sa/data.txt gs://twitter-sa-bucket/data_unseen/\n",
        "```\n",
        "\n",
        "script ini akan menjalankan get_tweets.py setiap pukul 12:00 setiap harinya dan menjalankan command pindahkan data.txt ke cloud bucket setiap pukul 12:30 setiap harinya.\n"
      ]
    },
    {
      "cell_type": "markdown",
      "metadata": {
        "id": "nBXSu7PVJLOW",
        "colab_type": "text"
      },
      "source": [
        "## Step 12. Storing in the Bucket"
      ]
    }
  ]
}